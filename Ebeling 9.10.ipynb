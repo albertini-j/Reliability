{
 "cells": [
  {
   "cell_type": "code",
   "execution_count": 1,
   "metadata": {},
   "outputs": [
    {
     "name": "stdout",
     "output_type": "stream",
     "text": [
      "IPython console for SymPy 1.4 (Python 3.7.4-64-bit) (ground types: python)\n",
      "\n",
      "These commands were executed:\n",
      ">>> from __future__ import division\n",
      ">>> from sympy import *\n",
      ">>> x, y, z, t = symbols('x y z t')\n",
      ">>> k, m, n = symbols('k m n', integer=True)\n",
      ">>> f, g, h = symbols('f g h', cls=Function)\n",
      ">>> init_printing()\n",
      "\n",
      "Documentation can be found at https://docs.sympy.org/1.4/\n",
      "\n"
     ]
    }
   ],
   "source": [
    "#ebelin 9.10\n",
    "\n",
    "from sympy import *\n",
    "init_session()\n",
    "from sympy.stats import *\n",
    "import matplotlib.pyplot as plt\n",
    "import numpy as np\n",
    "\n",
    "F, a, b, R, mttf, l =symbols('F a b R mttf l')"
   ]
  },
  {
   "cell_type": "code",
   "execution_count": null,
   "metadata": {},
   "outputs": [],
   "source": []
  },
  {
   "cell_type": "code",
   "execution_count": 2,
   "metadata": {},
   "outputs": [],
   "source": [
    "t1=50000\n",
    "Rprop=exp(-(t/1000)**1.7)\n",
    "Ravionics=exp(-0.003*t)\n",
    "Rstr=exp(-(t/2000)**2.1)\n",
    "Relec=exp(-(t/870)**1.8)\n",
    "Renv=exp(-0.001*t)"
   ]
  },
  {
   "cell_type": "code",
   "execution_count": 3,
   "metadata": {},
   "outputs": [
    {
     "data": {
      "image/png": "[encoded data removed]",
      "text/latex": [
       "$\\displaystyle 892.244502499324$"
      ],
      "text/plain": [
       "892.244502499324"
      ]
     },
     "execution_count": 3,
     "metadata": {},
     "output_type": "execute_result"
    }
   ],
   "source": [
    "MTTFprop=integrate(Rprop,(t,0,oo))\n",
    "MTTFprop"
   ]
  },
  {
   "cell_type": "code",
   "execution_count": 4,
   "metadata": {},
   "outputs": [
    {
     "data": {
      "image/png": "[encoded data removed]",
      "text/latex": [
       "$\\displaystyle 333.333333333333$"
      ],
      "text/plain": [
       "333.333333333333"
      ]
     },
     "execution_count": 4,
     "metadata": {},
     "output_type": "execute_result"
    }
   ],
   "source": [
    "MTTFavionics=integrate(Ravionics,(t,0,oo))\n",
    "MTTFavionics"
   ]
  },
  {
   "cell_type": "code",
   "execution_count": 5,
   "metadata": {},
   "outputs": [
    {
     "data": {
      "image/png": "[encoded data removed]",
      "text/latex": [
       "$\\displaystyle 1771.38722784774$"
      ],
      "text/plain": [
       "1771.38722784774"
      ]
     },
     "execution_count": 5,
     "metadata": {},
     "output_type": "execute_result"
    }
   ],
   "source": [
    "MTTFstr=integrate(Rstr,(t,0,oo))\n",
    "MTTFstr"
   ]
  },
  {
   "cell_type": "code",
   "execution_count": 6,
   "metadata": {},
   "outputs": [
    {
     "data": {
      "image/png": "[encoded data removed]",
      "text/latex": [
       "$\\displaystyle 773.679457233426$"
      ],
      "text/plain": [
       "773.679457233426"
      ]
     },
     "execution_count": 6,
     "metadata": {},
     "output_type": "execute_result"
    }
   ],
   "source": [
    "MTTFelec=integrate(Relec,(t,0,oo))\n",
    "MTTFelec"
   ]
  },
  {
   "cell_type": "code",
   "execution_count": 7,
   "metadata": {},
   "outputs": [
    {
     "data": {
      "image/png": "[encoded data removed]",
      "text/latex": [
       "$\\displaystyle 1000.0$"
      ],
      "text/plain": [
       "1000.00000000000"
      ]
     },
     "execution_count": 7,
     "metadata": {},
     "output_type": "execute_result"
    }
   ],
   "source": [
    "MTTFenv=integrate(Renv,(t,0,oo))\n",
    "MTTFenv"
   ]
  },
  {
   "cell_type": "code",
   "execution_count": 8,
   "metadata": {},
   "outputs": [],
   "source": [
    "MTTRprop=6.8\n",
    "MTTRavionics=3.2\n",
    "MTTRstr=5.2\n",
    "MTTRelec=2\n",
    "MTTRenv=4.8\n"
   ]
  },
  {
   "cell_type": "code",
   "execution_count": 9,
   "metadata": {},
   "outputs": [],
   "source": [
    "#desconsiderei o MTTR pois o enunciado diz que o tempo de vida é referente a horas de voo.\n",
    "\n",
    "\n",
    "NRprop=(t1/MTTFprop)\n",
    "NRavionics=(t1/MTTFavionics)\n",
    "NRstr=(t1/MTTFstr)\n",
    "NRelec=(t1/MTTFelec)\n",
    "NRenv=(t1/MTTFenv)"
   ]
  },
  {
   "cell_type": "code",
   "execution_count": 10,
   "metadata": {},
   "outputs": [
    {
     "data": {
      "text/plain": [
       "'56.0384511868011 - NRprop, 150.000000000000 - NRavionics, 28.2264652324217 - NRstr, 64.6262473851811 - NRelec, 50.0000000000000 - NRenv'"
      ]
     },
     "execution_count": 10,
     "metadata": {},
     "output_type": "execute_result"
    }
   ],
   "source": [
    "'{} - NRprop, {} - NRavionics, {} - NRstr, {} - NRelec, {} - NRenv'.format(NRprop,NRavionics,NRstr,NRelec,NRenv)"
   ]
  },
  {
   "cell_type": "code",
   "execution_count": 11,
   "metadata": {},
   "outputs": [
    {
     "data": {
      "image/png": "[encoded data removed]",
      "text/latex": [
       "$\\displaystyle 3.94705204635458$"
      ],
      "text/plain": [
       "3.94705204635458"
      ]
     },
     "execution_count": 11,
     "metadata": {},
     "output_type": "execute_result"
    }
   ],
   "source": [
    "MTTRsys=(NRprop*MTTRprop+NRavionics*MTTRavionics+NRstr*MTTRstr+NRelec*MTTRelec+NRenv*MTTRenv)/(NRprop+NRavionics+NRstr+NRelec+NRenv)\n",
    "MTTRsys"
   ]
  },
  {
   "cell_type": "code",
   "execution_count": 28,
   "metadata": {},
   "outputs": [],
   "source": [
    "#Repeat the analysis assuming minimal repair with the weibull failure distribution \n",
    "#replaced by the power law intensity function.\n",
    "\n",
    "\n",
    "#p(t)=a*b*t**(b-1) #a = 1/theta^b\n",
    "lprop2=1/(1000**1.7)\n",
    "Pprop2=lprop2*1.7*t**0.7 #intensity function\n",
    "lstr2=1/(2000**2.1)\n",
    "Pstr2=lstr2*2.1*t**1.1\n",
    "lelec2=1/(870**1.8)\n",
    "Pelec2=lelec2*1.8*t**0.8\n",
    "Mprop2=integrate(Pprop2,(t))\n",
    "Mstr2=integrate(Pstr2,t)\n",
    "Melec2=integrate(Pelec2,t)"
   ]
  },
  {
   "cell_type": "code",
   "execution_count": 29,
   "metadata": {},
   "outputs": [
    {
     "data": {
      "image/png": "[encoded data removed]",
      "text/latex": [
       "$\\displaystyle 773.123736777479$"
      ],
      "text/plain": [
       "773.123736777479"
      ]
     },
     "execution_count": 29,
     "metadata": {},
     "output_type": "execute_result"
    }
   ],
   "source": [
    "NRprop2=Mprop2.subs({t:50000})\n",
    "NRprop2"
   ]
  },
  {
   "cell_type": "code",
   "execution_count": 30,
   "metadata": {},
   "outputs": [
    {
     "data": {
      "image/png": "[encoded data removed]",
      "text/latex": [
       "$\\displaystyle 862.331038413259$"
      ],
      "text/plain": [
       "862.331038413259"
      ]
     },
     "execution_count": 30,
     "metadata": {},
     "output_type": "execute_result"
    }
   ],
   "source": [
    "NRstr2=Mstr2.subs({t:50000})\n",
    "NRstr2"
   ]
  },
  {
   "cell_type": "code",
   "execution_count": 31,
   "metadata": {},
   "outputs": [
    {
     "data": {
      "image/png": "[encoded data removed]",
      "text/latex": [
       "$\\displaystyle 1468.9646780216$"
      ],
      "text/plain": [
       "1468.96467802160"
      ]
     },
     "execution_count": 31,
     "metadata": {},
     "output_type": "execute_result"
    }
   ],
   "source": [
    "NRelec2=Mele2.subs({t:50000})\n",
    "NRelec2"
   ]
  },
  {
   "cell_type": "code",
   "execution_count": 32,
   "metadata": {},
   "outputs": [
    {
     "data": {
      "image/png": "[encoded data removed]",
      "text/latex": [
       "$\\displaystyle 4.05496104704658$"
      ],
      "text/plain": [
       "4.05496104704658"
      ]
     },
     "execution_count": 32,
     "metadata": {},
     "output_type": "execute_result"
    }
   ],
   "source": [
    "MTTRsys2=(NRprop2*MTTRprop+NRavionics*MTTRavionics+NRstr2*MTTRstr+NRelec2*MTTRelec+NRenv*MTTRenv)/(NRprop2+NRavionics+NRstr2+NRelec2+NRenv)\n",
    "MTTRsys2"
   ]
  },
  {
   "cell_type": "code",
   "execution_count": null,
   "metadata": {},
   "outputs": [],
   "source": [
    "#mttr com manutenção preventiva = 3.95, com reparo mínimo = 4.05, pouca diferença, porém o número de reparos cresce de forma drástica."
   ]
  },
  {
   "cell_type": "code",
   "execution_count": null,
   "metadata": {},
   "outputs": [],
   "source": []
  }
 ],
 "metadata": {
  "kernelspec": {
   "display_name": "Python 3",
   "language": "python",
   "name": "python3"
  },
  "language_info": {
   "codemirror_mode": {
    "name": "ipython",
    "version": 3
   },
   "file_extension": ".py",
   "mimetype": "text/x-python",
   "name": "python",
   "nbconvert_exporter": "python",
   "pygments_lexer": "ipython3",
   "version": "3.7.4"
  }
 },
 "nbformat": 4,
 "nbformat_minor": 4
}
