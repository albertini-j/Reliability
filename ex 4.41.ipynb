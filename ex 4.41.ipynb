{
 "cells": [
  {
   "cell_type": "code",
   "execution_count": 1,
   "metadata": {},
   "outputs": [
    {
     "name": "stdout",
     "output_type": "stream",
     "text": [
      "IPython console for SymPy 1.4 (Python 3.7.4-64-bit) (ground types: python)\n",
      "\n",
      "These commands were executed:\n",
      ">>> from __future__ import division\n",
      ">>> from sympy import *\n",
      ">>> x, y, z, t = symbols('x y z t')\n",
      ">>> k, m, n = symbols('k m n', integer=True)\n",
      ">>> f, g, h = symbols('f g h', cls=Function)\n",
      ">>> init_printing()\n",
      "\n",
      "Documentation can be found at https://docs.sympy.org/1.4/\n",
      "\n"
     ]
    }
   ],
   "source": [
    " #Modarres - Ex 4.41\n",
    "    \n",
    "from sympy import *\n",
    "init_session()\n",
    "from sympy.stats import *\n",
    "import matplotlib.pyplot as plt\n",
    "import numpy as np\n",
    "\n",
    "\n",
    "F, a, b, R, mttf, l =symbols('F a b R mttf l')\n",
    "t1 = symbols('t1')\n",
    "def paralelo(*confiabilidades):\n",
    "    temporario=np.array(confiabilidades)\n",
    "    temporario=np.subtract(1,temporario)\n",
    "    temporario=np.prod(temporario)\n",
    "    return 1-temporario\n",
    "\n",
    "def serie(*confiabilidades):\n",
    "    temporario = np.array(confiabilidades)\n",
    "    return np.prod(temporario)\n",
    "\n",
    "def loadshare(RhL,RfL,fhL): #informar todos em função de t\n",
    "    return RhL**2+2*integrate(fhL.subs({t:t1})*RhL.subs({t:t1})*RfL.subs({t:(t-t1)}),(t1,0,t))\n",
    "\n",
    "def perfect_ss(R1S,R2S,f1S): #informar todos em função de t\n",
    "    return R1S+integrate(f1S.subs({t:t1})*R2S.subs({t:(t-t1)}),(t1,0,t))\n"
   ]
  },
  {
   "cell_type": "code",
   "execution_count": null,
   "metadata": {},
   "outputs": [],
   "source": [
    "#a) possible scenarios that the system works sucessfully\n",
    "#p1 a.b.d\n",
    "#p2 a.~b.c.e\n",
    "#p3 a.b.~d.e\n",
    "\n",
    "#b.1) expression for each scenario:\n",
    "\n",
    "#p1 Ra*Rb*Rd\n",
    "#p2 Ra*Integral(fb(t1)*Rc'(t1)*Re'(t1)*Rc(t-t1)*Re(t-t1),(t1,0,t))\n",
    "#p3 Ra*Rb*Integral(fd(t1)*Re'(t1)*Re(t-t1),(t1,0,t))\n",
    "\n",
    "#b.2) Ra * (Rb*(1-(1-Rd)*(1-Integral(fd(t1)*Re'(t1)*Re(t-t1),(t1,0,t))) + Integral(fb(t1)*Rc'(t1)*Re'(t1)*Rc(t-t1)*Re(t-t1),(t1,0,t)) )"
   ]
  }
 ],
 "metadata": {
  "kernelspec": {
   "display_name": "Python 3",
   "language": "python",
   "name": "python3"
  },
  "language_info": {
   "codemirror_mode": {
    "name": "ipython",
    "version": 3
   },
   "file_extension": ".py",
   "mimetype": "text/x-python",
   "name": "python",
   "nbconvert_exporter": "python",
   "pygments_lexer": "ipython3",
   "version": "3.7.4"
  }
 },
 "nbformat": 4,
 "nbformat_minor": 2
}
