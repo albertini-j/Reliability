{
 "cells": [
  {
   "cell_type": "code",
   "execution_count": null,
   "metadata": {},
   "outputs": [],
   "source": [
    "#ex 3.22 Modarres\n",
    "#Com quantos graus de liberdade X²(0.10)>=0.5X²(0.9)?\n",
    "#v           X² 10              X² 90     X²90/2\n",
    "#30          20,59              40,25     20,12\n",
    "\n",
    "#Resposta: Usamos o grau de liberdade 2*Unidades no cálculo, portanto precisamos de pelo menos 30/2=  15 unidades.\n"
   ]
  }
 ],
 "metadata": {
  "kernelspec": {
   "display_name": "Python 3",
   "language": "python",
   "name": "python3"
  },
  "language_info": {
   "codemirror_mode": {
    "name": "ipython",
    "version": 3
   },
   "file_extension": ".py",
   "mimetype": "text/x-python",
   "name": "python",
   "nbconvert_exporter": "python",
   "pygments_lexer": "ipython3",
   "version": "3.7.4"
  }
 },
 "nbformat": 4,
 "nbformat_minor": 2
}
