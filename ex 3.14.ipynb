{
 "cells": [
  {
   "cell_type": "code",
   "execution_count": 1,
   "metadata": {},
   "outputs": [
    {
     "name": "stdout",
     "output_type": "stream",
     "text": [
      "IPython console for SymPy 1.4 (Python 3.7.4-64-bit) (ground types: python)\n",
      "\n",
      "These commands were executed:\n",
      ">>> from __future__ import division\n",
      ">>> from sympy import *\n",
      ">>> x, y, z, t = symbols('x y z t')\n",
      ">>> k, m, n = symbols('k m n', integer=True)\n",
      ">>> f, g, h = symbols('f g h', cls=Function)\n",
      ">>> init_printing()\n",
      "\n",
      "Documentation can be found at https://docs.sympy.org/1.4/\n",
      "\n"
     ]
    }
   ],
   "source": [
    "#Modarres - Ex 4.14\n",
    "\n",
    "from sympy import *\n",
    "init_session()\n",
    "from sympy.stats import *\n",
    "import matplotlib.pyplot as plt\n",
    "import numpy as np\n",
    "\n",
    "\n",
    "F, a, b, R, mttf, l =symbols('F a b R mttf l')"
   ]
  },
  {
   "cell_type": "code",
   "execution_count": 12,
   "metadata": {},
   "outputs": [
    {
     "data": {
      "image/png": "[encoded data removed]",
      "text/latex": [
       "$\\displaystyle 435 \\left(1 - e^{- 0.0002 t}\\right)^{2} e^{- 0.0056 t} + 30 \\left(1 - e^{- 0.0002 t}\\right) e^{- 0.0058 t} + e^{- 0.006 t}$"
      ],
      "text/plain": [
       "                    2                                                        \n",
       "    ⎛     -0.0002⋅t⎞   -0.0056⋅t      ⎛     -0.0002⋅t⎞  -0.0058⋅t    -0.006⋅t\n",
       "435⋅⎝1 - ℯ         ⎠ ⋅ℯ          + 30⋅⎝1 - ℯ         ⎠⋅ℯ          + ℯ        "
      ]
     },
     "execution_count": 12,
     "metadata": {},
     "output_type": "execute_result"
    }
   ],
   "source": [
    "#confiabilidade em 1000h para um sistema \"k de n\" - 28 de 30, com cada elemento com taxa de falha 2*10**-4\n",
    "#posso usar esse bloco para qualquer k-de-n, ajustando apenas os valores de k, N, e o Rc: expressão da confiabilidade do componente.\n",
    "N=30\n",
    "k=28\n",
    "\n",
    "lc=2*10**-4\n",
    "Rc = exp(-lc*t) \n",
    "Rkn=0\n",
    "for K in range(k,N+1):\n",
    "    comb=factorial(N)/(factorial(K)*factorial(N-K))\n",
    "    KnesimoR=comb*Rc**K*(1-Rc)**(N-K)\n",
    "    Rkn=Rkn+KnesimoR\n",
    "Rkn    "
   ]
  },
  {
   "cell_type": "code",
   "execution_count": 13,
   "metadata": {},
   "outputs": [
    {
     "data": {
      "image/png": "[encoded data removed]",
      "text/latex": [
       "$\\displaystyle 0.0717981142809321$"
      ],
      "text/plain": [
       "0.0717981142809321"
      ]
     },
     "execution_count": 13,
     "metadata": {},
     "output_type": "execute_result"
    }
   ],
   "source": [
    "Rkn.subs({t:1000})"
   ]
  },
  {
   "cell_type": "code",
   "execution_count": null,
   "metadata": {},
   "outputs": [],
   "source": []
  },
  {
   "cell_type": "code",
   "execution_count": null,
   "metadata": {},
   "outputs": [],
   "source": []
  }
 ],
 "metadata": {
  "kernelspec": {
   "display_name": "Python 3",
   "language": "python",
   "name": "python3"
  },
  "language_info": {
   "codemirror_mode": {
    "name": "ipython",
    "version": 3
   },
   "file_extension": ".py",
   "mimetype": "text/x-python",
   "name": "python",
   "nbconvert_exporter": "python",
   "pygments_lexer": "ipython3",
   "version": "3.7.4"
  }
 },
 "nbformat": 4,
 "nbformat_minor": 2
}
