{
 "cells": [
  {
   "cell_type": "code",
   "execution_count": 1,
   "metadata": {},
   "outputs": [
    {
     "name": "stdout",
     "output_type": "stream",
     "text": [
      "IPython console for SymPy 1.4 (Python 3.7.4-64-bit) (ground types: python)\n",
      "\n",
      "These commands were executed:\n",
      ">>> from __future__ import division\n",
      ">>> from sympy import *\n",
      ">>> x, y, z, t = symbols('x y z t')\n",
      ">>> k, m, n = symbols('k m n', integer=True)\n",
      ">>> f, g, h = symbols('f g h', cls=Function)\n",
      ">>> init_printing()\n",
      "\n",
      "Documentation can be found at https://docs.sympy.org/1.4/\n",
      "\n"
     ]
    }
   ],
   "source": [
    "#Modarres Ex 4.22 # errado\n",
    "from sympy import *\n",
    "init_session()\n",
    "from sympy.stats import *\n",
    "import matplotlib.pyplot as plt\n",
    "import numpy as np"
   ]
  },
  {
   "cell_type": "code",
   "execution_count": 2,
   "metadata": {},
   "outputs": [],
   "source": [
    "Ra=0.99\n",
    "Rb=0.98\n",
    "Rc=0.999\n",
    "Rd=0.998\n",
    "Re=0.99\n",
    "Fa=1-Ra\n",
    "Fb=1-Rb\n",
    "Fc=1-Rc\n",
    "Fd=1-Rd\n",
    "Fe=1-Re"
   ]
  },
  {
   "cell_type": "code",
   "execution_count": 5,
   "metadata": {},
   "outputs": [
    {
     "data": {
      "image/png": "[encoded data removed]",
      "text/latex": [
       "$\\displaystyle 8.891420932854999e-11$"
      ],
      "text/plain": [
       "8.891420932854999e-11"
      ]
     },
     "execution_count": 5,
     "metadata": {},
     "output_type": "execute_result"
    }
   ],
   "source": [
    "Racd=Ra*Rc*Rd\n",
    "Rae=Ra*Re\n",
    "Rad=Ra*Rd\n",
    "Rbcd=Rb*Rc*Rd\n",
    "Rabe = Ra*Rb*Re\n",
    "Rabd= Ra*Rb*Rd\n",
    "\n",
    "Rs=1-(1-Racd)*(1-Rae)*(1-Rad)*(1-Rbcd)*(1-Rabe)*(1-Rabd)\n",
    "Fs=1-Rs\n",
    "\n",
    "Fs"
   ]
  },
  {
   "cell_type": "code",
   "execution_count": null,
   "metadata": {},
   "outputs": [],
   "source": []
  }
 ],
 "metadata": {
  "kernelspec": {
   "display_name": "Python 3",
   "language": "python",
   "name": "python3"
  },
  "language_info": {
   "codemirror_mode": {
    "name": "ipython",
    "version": 3
   },
   "file_extension": ".py",
   "mimetype": "text/x-python",
   "name": "python",
   "nbconvert_exporter": "python",
   "pygments_lexer": "ipython3",
   "version": "3.7.4"
  }
 },
 "nbformat": 4,
 "nbformat_minor": 2
}
