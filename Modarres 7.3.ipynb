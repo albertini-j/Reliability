{
 "cells": [
  {
   "cell_type": "code",
   "execution_count": 1,
   "metadata": {},
   "outputs": [
    {
     "name": "stdout",
     "output_type": "stream",
     "text": [
      "IPython console for SymPy 1.4 (Python 3.7.4-64-bit) (ground types: python)\n",
      "\n",
      "These commands were executed:\n",
      ">>> from __future__ import division\n",
      ">>> from sympy import *\n",
      ">>> x, y, z, t = symbols('x y z t')\n",
      ">>> k, m, n = symbols('k m n', integer=True)\n",
      ">>> f, g, h = symbols('f g h', cls=Function)\n",
      ">>> init_printing()\n",
      "\n",
      "Documentation can be found at https://docs.sympy.org/1.4/\n",
      "\n",
      "Reliability help loaded.\n"
     ]
    }
   ],
   "source": [
    "#Modarres ex 7.3\n",
    "from reliability_help import *"
   ]
  },
  {
   "cell_type": "code",
   "execution_count": 2,
   "metadata": {},
   "outputs": [],
   "source": [
    "#declaring variables with data from table B.1. Scale of time = hour\n",
    "#Tank Failure modes\n",
    "\n",
    "Tank_large_leak=Gamma('Tank_large_leak', 0.3,1.65*10**7)\n",
    "Ret1 = 1-cdf(Tank_large_leak)(t)\n",
    "#MOV failure modes\n",
    "MOV_leak_large=Gamma('MOV_leak_large',0.3, 1.31*10**8)\n",
    "MOV_fail_to_control=Gamma('MOV_fail_to_control',1.46,2.21*10**7)\n",
    "MOV_fail_to_O_C=Beta('MOV_fail_to_O_C', 2.05, 2.12*10**3)\n",
    "MOV_spurious_op=Gamma(\"MOV_spurious_op\",0.57,1.68*10**7)"
   ]
  },
  {
   "cell_type": "code",
   "execution_count": 3,
   "metadata": {},
   "outputs": [],
   "source": [
    "\n",
    "#valves with all MOV (motor operated valve) failure modes\n",
    "Rsv1=(1-cdf(MOV_leak_large)(t))*(1-cdf(MOV_fail_to_control)(t))*(1-cdf(MOV_spurious_op)(t))#*(1-cdf(MOV_fail_to_O_C)(t))\n",
    "Rsv2=(1-cdf(MOV_leak_large)(t))*(1-cdf(MOV_fail_to_control)(t))*(1-cdf(MOV_spurious_op)(t))#*(1-cdf(MOV_fail_to_O_C)(t))\n",
    "Rsv5=(1-cdf(MOV_leak_large)(t))*(1-cdf(MOV_fail_to_control)(t))*(1-cdf(MOV_spurious_op)(t))#*(1-cdf(MOV_fail_to_O_C)(t))\n",
    "\n",
    "\n",
    "\n",
    "#Normally open valves, without operation related failure modes\n",
    "Rsv3=(1-cdf(MOV_leak_large)(t))*(1-cdf(MOV_spurious_op)(t))\n",
    "Rsv4=(1-cdf(MOV_leak_large)(t))*(1-cdf(MOV_spurious_op)(t))\n",
    "\n",
    "#Manual valves failure modes\n",
    "\n",
    "Valve_leak=Gamma('Valve_leak',0.3,1.64*10**7)\n",
    "#Valve_fail_O_C=Beta('Valve_fail_O_C',0.5,24*2.61*10**3) #not used\n",
    "Valve_spurious_op=Gamma('Valve_spurious_op',8.5,1.01*10**8)\n",
    "\n",
    "#Normally open valves\n",
    "\n",
    "Rsv6=(1-cdf(Valve_leak)(t))*(1-cdf(Valve_spurious_op)(t))\n",
    "Rsv7=(1-cdf(Valve_leak)(t))*(1-cdf(Valve_spurious_op)(t))\n",
    "\n",
    "\n",
    "#Motor drive standby Pump failure modes\n",
    "Motor_pump_fail_start=Beta('Motor_pump_fail_start',1.95,24*2.05*10**3)\n",
    "Motor_pump_fail_more_1h=Gamma('Motor_pump_fail_more_1h',0.78,7.5*10**4)\n",
    "Motor_pump_fail_less_1h=Gamma('Motor_pump_fail_less_1h',1.82,1.48*10**4)\n",
    "\n",
    "#pumps\n",
    "Rsp1=(1-(cdf(Motor_pump_fail_more_1h)(t)))*(1-(cdf(Motor_pump_fail_less_1h)(t)))#*(1-cdf(Motor_pump_fail_start)(t))\n",
    "Rsp2=(1-(cdf(Motor_pump_fail_more_1h)(t)))*(1-(cdf(Motor_pump_fail_less_1h)(t)))#*(1-cdf(Motor_pump_fail_start)(t))\n",
    "\n",
    "#power supply failure modes - Reduced to transformer failure\n",
    "\n",
    "Transformer_failure=Gamma('Transformer_failure',0.96,1.01*10**6)"
   ]
  },
  {
   "cell_type": "code",
   "execution_count": 4,
   "metadata": {},
   "outputs": [],
   "source": [
    "Rp=(1-cdf(Transformer_failure)(t))\n",
    "\n",
    "\n",
    "#Ret1, Rp, Rsv1, Rsv2, Rsv3, Rsv4, Rsv5, Rsv6, Rsv7, Rsp1, Rsp2, Rsn1, Rsn2 = symbols('Ret1 Rp Rsv1 Rsv2 Rsv3 Rsv4 Rsv5 Rsv6 Rsv7 Rsp1 Rsp2 Rsn1 Rsn2')\n",
    "\n",
    "#no data for spray-nozzle, approximating to manual valve spurious operation.\n",
    "Rsn1=(1-cdf(Valve_spurious_op)(t))\n",
    "Rsn2=(1-cdf(Valve_spurious_op)(t))\n",
    "\n",
    "Fet1 = 1-Ret1\n",
    "Fp=1-Rp\n",
    "Fsv1=1-Rsv1\n",
    "Fsv2=1-Rsv2\n",
    "Fsv3=1-Rsv3\n",
    "Fsv4=1-Rsv4\n",
    "Fsv5=1-Rsv5\n",
    "Fsv6=1-Rsv6\n",
    "Fsv7=1-Rsv7\n",
    "Fsp1=1-Rsp1\n",
    "Fsp2=1-Rsp2\n",
    "Fsn1=1-Rsn1\n",
    "Fsn2=1-Rsn2\n",
    " "
   ]
  },
  {
   "cell_type": "code",
   "execution_count": 5,
   "metadata": {
    "jupyter": {
     "source_hidden": true
    }
   },
   "outputs": [],
   "source": [
    "#solving without CCF\n",
    "\n",
    "#simplifying the system\n",
    "Ra=Rsv1*Rsp1 #SV1 and SP1 = A\n",
    "Rb=Rsv3*Rsv6*Rsn1 #SV3, SV6 and SN1 = B\n",
    "Rc=Rsv2*Rsp2 #SV2, SP2 = C\n",
    "Rd=Rsv4*Rsv7*Rsn2 #SV4, SV7 and SN2 = D\n",
    "Fa=1-Ra\n",
    "Fb=1-Rb\n",
    "Fc=1-Rc\n",
    "Fd=1-Rd\n",
    "\n",
    "#cutsets:\n",
    "\n",
    "Fc1=Fet1\n",
    "Fc2=Fp\n",
    "Fc3=Fa*Fc\n",
    "Fc4=Fb*Fd\n",
    "Fc5=Fa*Fd*Fsv5\n",
    "Fc6=Fb*Fc*Fsv5\n",
    "\n",
    "Rc1=1-Fc1\n",
    "Rc2=1-Fc2\n",
    "Rc3=1-Fc3\n",
    "Rc4=1-Fc4\n",
    "Rc5=1-Fc5\n",
    "Rc6=1-Fc6\n",
    "\n",
    "\n",
    "\n",
    "Rsys=(Rc1*Rc2*Rc3*Rc4*Rc5*Rc6)\n",
    "\n"
   ]
  },
  {
   "cell_type": "code",
   "execution_count": 6,
   "metadata": {},
   "outputs": [
    {
     "data": {
      "image/png": "[encoded data removed]",
      "text/latex": [
       "$\\displaystyle 0.923872231001156$"
      ],
      "text/plain": [
       "0.923872231001156"
      ]
     },
     "execution_count": 6,
     "metadata": {},
     "output_type": "execute_result"
    }
   ],
   "source": [
    "Rsys.subs({t:1000})"
   ]
  },
  {
   "cell_type": "code",
   "execution_count": null,
   "metadata": {},
   "outputs": [],
   "source": []
  },
  {
   "cell_type": "code",
   "execution_count": 7,
   "metadata": {},
   "outputs": [],
   "source": [
    "#solving with CCF \n",
    "\n",
    "#Not possible to simplify\n",
    "\n",
    "\n",
    "#cutsets with common cause failures:\n",
    "beta_v=0.1\n",
    "beta_p=0.1\n",
    "Fsv1i=Fsv1*(1-beta_v)\n",
    "Fsv2i=Fsv2*(1-beta_v)\n",
    "Fsv3i=Fsv3*(1-beta_v)\n",
    "Fsv4i=Fsv4*(1-beta_v)\n",
    "Fsv5i=Fsv5*(1-beta_v)\n",
    "Fsv6i=Fsv6*(1-beta_v)\n",
    "Fsv7i=Fsv7*(1-beta_v)\n",
    "Fsv=Fsv1*beta_v\n",
    "\n",
    "Rsv1i=1-Fsv1i\n",
    "Rsv2i=1-Fsv2i\n",
    "Rsv3i=1-Fsv3i\n",
    "Rsv4i=1-Fsv4i\n",
    "Rsv5i=1-Fsv5i\n",
    "Rsv6i=1-Fsv6i\n",
    "Rsv7i=1-Fsv7i\n",
    "Rsv=1-Fsv\n",
    "\n",
    "Fsp1i=Fsp1*(1-beta_p)\n",
    "Fsp2i=Fsp2*(1-beta_p)\n",
    "Fsp=Fsp1*beta_p\n",
    "\n",
    "Rsp1i=1-Fsp1i\n",
    "Rsp2i=1-Fsp2i\n",
    "Rsp=1-Fsp\n",
    "\n",
    "Fc1_1=Fet1\n",
    "Fc2_1=Fp\n",
    "Fc3_1=Fsv1i*Fsv2i         *Rsv3*Rsv4*Rsv5*Rsv6*Rsv7       *Rsp1*Rsp2 \n",
    "Fc3_2=Fsv1i*Fsp2i          *Rsv2*Rsv3*Rsv4*Rsv5*Rsv6*Rsv7       *Rsp1\n",
    "Fc3_3=Fsp1i*Fsv2i          *Rsv1*Rsv3*Rsv4*Rsv5*Rsv6*Rsv7       *Rsp2\n",
    "Fc3_4=Fsp1i*Fsp2i          *Rsv1*Rsv2*Rsv3*Rsv4*Rsv5*Rsv6*Rsv7      \n",
    "Fc4_1=Fsv3i*Fsv4i          *Rsv1*Rsv2*Rsv5*Rsv6*Rsv7       *Rsp1*Rsp2\n",
    "Fc4_2=Fsv3i*Fsv7i          *Rsv1*Rsv2*Rsv4*Rsv5*Rsv6       *Rsp1*Rsp2\n",
    "Fc4_3=Fsv3i*Fsn2          *Rsv1*Rsv2*Rsv4*Rsv5*Rsv6*Rsv7       *Rsp1*Rsp2\n",
    "Fc4_4=Fsv6i*Fsv4i          *Rsv1*Rsv2*Rsv3*Rsv5*Rsv7       *Rsp1*Rsp2\n",
    "Fc4_5=Fsv6i*Fsv7i          *Rsv1*Rsv2*Rsv3*Rsv4*Rsv5      *Rsp1*Rsp2\n",
    "Fc4_6=Fsv6i*Fsn2          *Rsv1*Rsv2*Rsv3*Rsv4*Rsv5*Rsv7       *Rsp1*Rsp2\n",
    "Fc4_7=Fsn1*Fsv4i          *Rsv1*Rsv2*Rsv3*Rsv5*Rsv6*Rsv7       *Rsp1*Rsp2\n",
    "Fc4_8=Fsn1*Fsv7i          *Rsv1*Rsv2*Rsv3*Rsv4*Rsv5*Rsv6      *Rsp1*Rsp2\n",
    "Fc4_9=Fsn1*Fsn2          \n",
    "Fc5_1=Fsv1i*Fsv4i*Fsv5i          *Rsv2*Rsv3*Rsv6*Rsv7       *Rsp1*Rsp2\n",
    "Fc5_2=Fsv1i*Fsv7i*Fsv5i          *Rsv2*Rsv3*Rsv4*Rsv6       *Rsp1*Rsp2\n",
    "Fc5_3=Fsv1i*Fsn2*Fsv5i           *Rsv2*Rsv3*Rsv4*Rsv6*Rsv7       *Rsp1*Rsp2\n",
    "Fc5_4=Fsp1i*Fsv4i*Fsv5i          *Rsv1*Rsv2*Rsv3*Rsv6*Rsv7      *Rsp2\n",
    "Fc5_5=Fsp1i*Fsv7i*Fsv5i          *Rsv1*Rsv2*Rsv3*Rsv4*Rsv6       *Rsp2\n",
    "Fc5_6=Fsp1i*Fsn2*Fsv5i          *Rsv1*Rsv2*Rsv3*Rsv4*Rsv6*Rsv7       *Rsp2\n",
    "Fc6_1=Fsv2i*Fsv3i*Fsv5i          *Rsv1*Rsv4*Rsv6*Rsv7       *Rsp1*Rsp2\n",
    "Fc6_2=Fsv2i*Fsv6i*Fsv5i          *Rsv1*Rsv3*Rsv4*Rsv7       *Rsp1*Rsp2\n",
    "Fc6_3=Fsv2i*Fsn1*Fsv5i          *Rsv1*Rsv3*Rsv4*Rsv6*Rsv7       *Rsp1*Rsp2\n",
    "Fc6_4=Fsp2i*Fsv3i*Fsv5i          *Rsv1*Rsv2*Rsv4*Rsv6*Rsv7       *Rsp1\n",
    "Fc6_5=Fsp2i*Fsv6i*Fsv5i          *Rsv1*Rsv2*Rsv3*Rsv4*Rsv7       *Rsp1\n",
    "Fc6_6=Fsp2i*Fsn1*Fsv5i          *Rsv1*Rsv2*Rsv3*Rsv4*Rsv6*Rsv7       *Rsp1\n",
    "Fc_ccf_p=Fsp\n",
    "Fc_ccf_v=Fsv\n",
    "\n",
    "\n",
    "Rc1_1= 1-Fc1_1\n",
    "Rc2_1= 1-Fc2_1\n",
    "Rc3_1= 1-Fc3_1\n",
    "Rc3_2= 1-Fc3_2\n",
    "Rc3_3= 1-Fc3_3\n",
    "Rc3_4= 1-Fc3_4\n",
    "Rc4_1= 1-Fc4_1\n",
    "Rc4_2= 1-Fc4_2\n",
    "Rc4_3= 1-Fc4_3\n",
    "Rc4_4= 1-Fc4_4\n",
    "Rc4_5= 1-Fc4_5\n",
    "Rc4_6= 1-Fc4_6\n",
    "Rc4_7= 1-Fc4_7\n",
    "Rc4_8= 1-Fc4_8\n",
    "Rc4_9= 1-Fc4_9\n",
    "Rc5_1= 1-Fc5_1\n",
    "Rc5_2= 1-Fc5_2\n",
    "Rc5_3= 1-Fc5_3\n",
    "Rc5_4= 1-Fc5_4\n",
    "Rc5_5= 1-Fc5_5\n",
    "Rc5_6= 1-Fc5_6\n",
    "Rc6_1= 1-Fc6_1\n",
    "Rc6_2= 1-Fc6_2\n",
    "Rc6_3= 1-Fc6_3\n",
    "Rc6_4= 1-Fc6_4\n",
    "Rc6_5= 1-Fc6_5\n",
    "Rc6_6= 1-Fc6_6\n",
    "Rc_ccf_p= 1-Fc_ccf_p\n",
    "Rc_ccf_v= 1-Fc_ccf_v\n",
    "\n",
    "\n",
    "\n",
    "Rsys_ccf=Rc_ccf_v*Rc_ccf_p*Rc6_6*Rc6_5*Rc6_4*Rc6_3*Rc6_2*Rc6_1*Rc5_6*Rc5_5*Rc5_4*Rc5_3*Rc5_2*Rc5_1*Rc4_9*Rc4_8*Rc4_7*Rc4_6*Rc4_5*Rc4_4*Rc4_3*Rc4_2*Rc4_1*Rc3_4*Rc3_3*Rc3_2*Rc3_1*Rc2_1*Rc1_1\n",
    "\n"
   ]
  },
  {
   "cell_type": "code",
   "execution_count": 8,
   "metadata": {},
   "outputs": [
    {
     "data": {
      "image/png": "[encoded data removed]",
      "text/latex": [
       "$\\displaystyle 0.92205452230707$"
      ],
      "text/plain": [
       "0.922054522307070"
      ]
     },
     "execution_count": 8,
     "metadata": {},
     "output_type": "execute_result"
    }
   ],
   "source": [
    "Rsys_ccf.subs({t:1000})"
   ]
  },
  {
   "cell_type": "code",
   "execution_count": null,
   "metadata": {},
   "outputs": [],
   "source": []
  }
 ],
 "metadata": {
  "kernelspec": {
   "display_name": "Python 3",
   "language": "python",
   "name": "python3"
  },
  "language_info": {
   "codemirror_mode": {
    "name": "ipython",
    "version": 3
   },
   "file_extension": ".py",
   "mimetype": "text/x-python",
   "name": "python",
   "nbconvert_exporter": "python",
   "pygments_lexer": "ipython3",
   "version": "3.7.4"
  }
 },
 "nbformat": 4,
 "nbformat_minor": 4
}
