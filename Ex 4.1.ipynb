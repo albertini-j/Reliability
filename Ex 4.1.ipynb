{
 "cells": [
  {
   "cell_type": "code",
   "execution_count": 1,
   "metadata": {},
   "outputs": [
    {
     "name": "stdout",
     "output_type": "stream",
     "text": [
      "IPython console for SymPy 1.4 (Python 3.7.4-64-bit) (ground types: python)\n",
      "\n",
      "These commands were executed:\n",
      ">>> from __future__ import division\n",
      ">>> from sympy import *\n",
      ">>> x, y, z, t = symbols('x y z t')\n",
      ">>> k, m, n = symbols('k m n', integer=True)\n",
      ">>> f, g, h = symbols('f g h', cls=Function)\n",
      ">>> init_printing()\n",
      "\n",
      "Documentation can be found at https://docs.sympy.org/1.4/\n",
      "\n"
     ]
    }
   ],
   "source": [
    "#Modarres - Ex 4.1\n",
    "\n",
    "from sympy import *\n",
    "init_session()\n",
    "from sympy.stats import *\n",
    "import matplotlib.pyplot as plt\n",
    "import numpy as np\n",
    "\n",
    "\n",
    "F, a, b, R, mttf, l =symbols('F a b R mttf l')"
   ]
  },
  {
   "cell_type": "code",
   "execution_count": 2,
   "metadata": {},
   "outputs": [
    {
     "data": {
      "image/png": "[encoded data removed]",
      "text/latex": [
       "$\\displaystyle e^{- 0.0002 t}$"
      ],
      "text/plain": [
       " -0.0002⋅t\n",
       "ℯ         "
      ]
     },
     "execution_count": 2,
     "metadata": {},
     "output_type": "execute_result"
    }
   ],
   "source": [
    "Rxi=exp(-2*10**-4*t)\n",
    "Rxi\n",
    "#Rxi=symbols('Rxi')"
   ]
  },
  {
   "cell_type": "code",
   "execution_count": 3,
   "metadata": {},
   "outputs": [],
   "source": [
    "#a) Minimal path-sets:\n",
    "#p1-x1,x2\n",
    "#p2-x3,x5\n",
    "#p3-x3-x4-x2\n",
    "\n",
    "\n",
    "#b) Minimal cut-sets:\n",
    "#c1- x1,x3\n",
    "#c2- x2,x5\n",
    "#c3- x1,x4,x5\n",
    "#c4- x3,x2\n",
    "\n",
    "\n",
    "\n",
    "    "
   ]
  },
  {
   "cell_type": "code",
   "execution_count": 14,
   "metadata": {},
   "outputs": [
    {
     "data": {
      "image/png": "[encoded data removed]",
      "text/latex": [
       "$\\displaystyle e^{- 0.0014 t} - 2 e^{- 0.001 t} - e^{- 0.0008 t} + e^{- 0.0006 t} + 2 e^{- 0.0004 t}$"
      ],
      "text/plain": [
       " -0.0014⋅t      -0.001⋅t    -0.0008⋅t    -0.0006⋅t      -0.0004⋅t\n",
       "ℯ          - 2⋅ℯ         - ℯ          + ℯ          + 2⋅ℯ         "
      ]
     },
     "execution_count": 14,
     "metadata": {},
     "output_type": "execute_result"
    }
   ],
   "source": [
    "p1=Rxi**2\n",
    "p2=Rxi**2\n",
    "p3=Rxi**3\n",
    "np1 = 1-p1\n",
    "np2= 1-p2\n",
    "np3 =1-p3\n",
    "Confiabilidade = 1-np1*np2*np3\n",
    "expand(Confiabilidade)"
   ]
  },
  {
   "cell_type": "code",
   "execution_count": 5,
   "metadata": {},
   "outputs": [
    {
     "data": {
      "image/png": "[encoded data removed]",
      "text/latex": [
       "$\\displaystyle 4130.95238095238$"
      ],
      "text/plain": [
       "4130.95238095238"
      ]
     },
     "execution_count": 5,
     "metadata": {},
     "output_type": "execute_result"
    }
   ],
   "source": [
    "Confiabilidade\n",
    "mttf=integrate(Confiabilidade,(t,0,oo)) #calculando pelos pathsets\n",
    "mttf\n"
   ]
  },
  {
   "cell_type": "code",
   "execution_count": 15,
   "metadata": {},
   "outputs": [
    {
     "data": {
      "image/png": "[encoded data removed]",
      "text/latex": [
       "$\\displaystyle - e^{- 0.0018 t} + 9 e^{- 0.0016 t} - 15 e^{- 0.0014 t} - 18 e^{- 0.0014 t} + 62 e^{- 0.0012 t} - 60 e^{- 0.001 t} + 24 e^{- 0.0008 t}$"
      ],
      "text/plain": [
       "   -0.0018⋅t      -0.0016⋅t       -0.0014⋅t       -0.0014⋅t       -0.0012⋅t   \n",
       "- ℯ          + 9⋅ℯ          - 15⋅ℯ          - 18⋅ℯ          + 62⋅ℯ          - \n",
       "\n",
       "    -0.001⋅t       -0.0008⋅t\n",
       "60⋅ℯ         + 24⋅ℯ         "
      ]
     },
     "execution_count": 15,
     "metadata": {},
     "output_type": "execute_result"
    }
   ],
   "source": [
    "c1=(1-Rxi)**2\n",
    "c2=(1-Rxi)**2\n",
    "c3=(1-Rxi)**3\n",
    "c4=(1-Rxi)**2\n",
    "Confiabilidade2 = (1-c1)*(1-c2)*(1-c3)*(1-c4)\n",
    "expand(Confiabilidade2)#calculando pelos cut-sets"
   ]
  },
  {
   "cell_type": "code",
   "execution_count": 9,
   "metadata": {
    "scrolled": true
   },
   "outputs": [
    {
     "data": {
      "image/png": "[encoded data removed]",
      "text/latex": [
       "$\\displaystyle 3164.68253968254$"
      ],
      "text/plain": [
       "3164.68253968254"
      ]
     },
     "execution_count": 9,
     "metadata": {},
     "output_type": "execute_result"
    }
   ],
   "source": [
    "mttf=integrate(expand(Confiabilidade2),(t,0,oo))\n",
    "mttf #c)    \n",
    "\n"
   ]
  },
  {
   "cell_type": "code",
   "execution_count": 8,
   "metadata": {},
   "outputs": [
    {
     "data": {
      "image/png": "[encoded data removed]",
      "text/latex": [
       "$\\displaystyle 0.899239770740607$"
      ],
      "text/plain": [
       "0.899239770740607"
      ]
     },
     "execution_count": 8,
     "metadata": {},
     "output_type": "execute_result"
    }
   ],
   "source": [
    "#d) Reliability at t=1000h\n",
    "R=Confiabilidade2.subs({t:1000})\n",
    "R"
   ]
  },
  {
   "cell_type": "code",
   "execution_count": null,
   "metadata": {},
   "outputs": [],
   "source": []
  },
  {
   "cell_type": "code",
   "execution_count": null,
   "metadata": {},
   "outputs": [],
   "source": []
  }
 ],
 "metadata": {
  "kernelspec": {
   "display_name": "Python 3",
   "language": "python",
   "name": "python3"
  },
  "language_info": {
   "codemirror_mode": {
    "name": "ipython",
    "version": 3
   },
   "file_extension": ".py",
   "mimetype": "text/x-python",
   "name": "python",
   "nbconvert_exporter": "python",
   "pygments_lexer": "ipython3",
   "version": "3.7.4"
  }
 },
 "nbformat": 4,
 "nbformat_minor": 2
}
