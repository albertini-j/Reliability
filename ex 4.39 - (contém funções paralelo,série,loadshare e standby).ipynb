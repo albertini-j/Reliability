{
 "cells": [
  {
   "cell_type": "code",
   "execution_count": 1,
   "metadata": {},
   "outputs": [
    {
     "name": "stdout",
     "output_type": "stream",
     "text": [
      "IPython console for SymPy 1.4 (Python 3.7.4-64-bit) (ground types: python)\n",
      "\n",
      "These commands were executed:\n",
      ">>> from __future__ import division\n",
      ">>> from sympy import *\n",
      ">>> x, y, z, t = symbols('x y z t')\n",
      ">>> k, m, n = symbols('k m n', integer=True)\n",
      ">>> f, g, h = symbols('f g h', cls=Function)\n",
      ">>> init_printing()\n",
      "\n",
      "Documentation can be found at https://docs.sympy.org/1.4/\n",
      "\n"
     ]
    }
   ],
   "source": [
    " #Modarres - Ex 4.23\n",
    "    \n",
    "from sympy import *\n",
    "init_session()\n",
    "from sympy.stats import *\n",
    "import matplotlib.pyplot as plt\n",
    "import numpy as np\n",
    "\n",
    "\n",
    "F, a, b, R, mttf, l =symbols('F a b R mttf l')"
   ]
  },
  {
   "cell_type": "code",
   "execution_count": 26,
   "metadata": {},
   "outputs": [],
   "source": [
    "t1 = symbols('t1')\n",
    "def paralelo(*confiabilidades):\n",
    "    temporario=np.array(confiabilidades)\n",
    "    temporario=np.subtract(1,temporario)\n",
    "    temporario=np.prod(temporario)\n",
    "    return 1-temporario\n",
    "\n",
    "def serie(*confiabilidades):\n",
    "    temporario = np.array(confiabilidades)\n",
    "    return np.prod(temporario)\n",
    "\n",
    "def loadshare(RhL,RfL,fhL): #informar todos em função de t\n",
    "    return RhL**2+2*integrate(fhL.subs({t:t1})*RhL.subs({t:t1})*RfL.subs({t:(t-t1)}),(t1,0,t))\n",
    "\n",
    "def perfect_ss(R1S,R2S,f1S): #informar todos em função de t\n",
    "    return R1S+integrate(f1S.subs({t:t1})*R2S.subs({t:(t-t1)}),(t1,0,t))\n"
   ]
  },
  {
   "cell_type": "code",
   "execution_count": 27,
   "metadata": {},
   "outputs": [
    {
     "data": {
      "image/png": "[encoded data removed]",
      "text/latex": [
       "$\\displaystyle 0.812632767242097$"
      ],
      "text/plain": [
       "0.812632767242097"
      ]
     },
     "execution_count": 27,
     "metadata": {},
     "output_type": "execute_result"
    }
   ],
   "source": [
    "#a) two paralel units with\n",
    "l1=0.0034\n",
    "l2=0.0105\n",
    "R1=exp(-l1*t)\n",
    "R2=exp(-l2*t)\n",
    "paralelo(R1,R2).subs({t:100})"
   ]
  },
  {
   "cell_type": "code",
   "execution_count": 28,
   "metadata": {},
   "outputs": [
    {
     "data": {
      "image/png": "[encoded data removed]",
      "text/latex": [
       "$\\displaystyle 0.885042259440771$"
      ],
      "text/plain": [
       "0.885042259440771"
      ]
     },
     "execution_count": 28,
     "metadata": {},
     "output_type": "execute_result"
    }
   ],
   "source": [
    "#b) standby system with perfect switching for the same two units\n",
    "f1=l1*exp(-l1*t)\n",
    "perfect_ss(R1,R2,f1).subs({t:100})"
   ]
  },
  {
   "cell_type": "code",
   "execution_count": 29,
   "metadata": {},
   "outputs": [
    {
     "data": {
      "image/png": "[encoded data removed]",
      "text/latex": [
       "$\\displaystyle 0.794568034022388$"
      ],
      "text/plain": [
       "0.794568034022388"
      ]
     },
     "execution_count": 29,
     "metadata": {},
     "output_type": "execute_result"
    }
   ],
   "source": [
    "#c) loadsharing with lh=0.0034 and lf=0.0105\n",
    "loadshare(R1,R2,f1).subs({t:100})"
   ]
  },
  {
   "cell_type": "code",
   "execution_count": null,
   "metadata": {},
   "outputs": [],
   "source": []
  }
 ],
 "metadata": {
  "kernelspec": {
   "display_name": "Python 3",
   "language": "python",
   "name": "python3"
  },
  "language_info": {
   "codemirror_mode": {
    "name": "ipython",
    "version": 3
   },
   "file_extension": ".py",
   "mimetype": "text/x-python",
   "name": "python",
   "nbconvert_exporter": "python",
   "pygments_lexer": "ipython3",
   "version": "3.7.4"
  }
 },
 "nbformat": 4,
 "nbformat_minor": 2
}
