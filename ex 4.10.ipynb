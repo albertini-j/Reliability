{
 "cells": [
  {
   "cell_type": "code",
   "execution_count": 1,
   "metadata": {},
   "outputs": [
    {
     "name": "stdout",
     "output_type": "stream",
     "text": [
      "IPython console for SymPy 1.4 (Python 3.7.4-64-bit) (ground types: python)\n",
      "\n",
      "These commands were executed:\n",
      ">>> from __future__ import division\n",
      ">>> from sympy import *\n",
      ">>> x, y, z, t = symbols('x y z t')\n",
      ">>> k, m, n = symbols('k m n', integer=True)\n",
      ">>> f, g, h = symbols('f g h', cls=Function)\n",
      ">>> init_printing()\n",
      "\n",
      "Documentation can be found at https://docs.sympy.org/1.4/\n",
      "\n"
     ]
    }
   ],
   "source": [
    " #Modarres - Ex 4.10\n",
    "\n",
    "from sympy import *\n",
    "init_session()\n",
    "from sympy.stats import *\n",
    "import matplotlib.pyplot as plt\n",
    "import numpy as np\n",
    "\n",
    "\n",
    "F, a, b, R, mttf, l =symbols('F a b R mttf l')"
   ]
  },
  {
   "cell_type": "code",
   "execution_count": 2,
   "metadata": {},
   "outputs": [
    {
     "data": {
      "image/png": "[encoded data removed]",
      "text/latex": [
       "$\\displaystyle 0.99$"
      ],
      "text/plain": [
       "0.99"
      ]
     },
     "execution_count": 2,
     "metadata": {},
     "output_type": "execute_result"
    }
   ],
   "source": [
    "\n",
    "\n",
    "\n",
    "\n",
    "#b)Design 1 Cut sets:\n",
    "#c1 = a,b\n",
    "#c2 = c,d\n",
    "\n",
    "#design 2 cut sets:\n",
    "\n",
    "#c3 = a,c\n",
    "#c4 = a,d\n",
    "#c5= b,c\n",
    "#c6 = b,d\n",
    "\n",
    "Fmax=10**-2\n",
    "Rmin=1-Fmax\n",
    "\n",
    "Rmin"
   ]
  },
  {
   "cell_type": "code",
   "execution_count": 3,
   "metadata": {},
   "outputs": [],
   "source": [
    "Ra=exp(-10**-6*t)\n",
    "Rb=exp(-10**-6*t)\n",
    "Rc=exp(-10**-3*t)\n",
    "Rd=exp(-10**-3*t)\n",
    "Fa=1-Ra\n",
    "Fb=1-Rb\n",
    "Fc=1-Rc\n",
    "Fd=1-Rd\n",
    "Fc1 = Fa*Fb\n",
    "Fc2 = Fc*Fd\n",
    "Fc3 = Fa*Fc\n",
    "Fc4 = Fa*Fd\n",
    "Fc5 = Fb*Fc\n",
    "Fc6 = Fb*Fd\n",
    "\n",
    "Rd1= 1-Fc1-Fc2\n",
    "Rd2= 1-Fc3-Fc4-Fc5-Fc6\n"
   ]
  },
  {
   "cell_type": "code",
   "execution_count": 4,
   "metadata": {},
   "outputs": [
    {
     "data": {
      "image/png": "[encoded data removed]",
      "text/latex": [
       "$\\displaystyle 0.990944072994937$"
      ],
      "text/plain": [
       "0.990944072994937"
      ]
     },
     "execution_count": 4,
     "metadata": {},
     "output_type": "execute_result"
    }
   ],
   "source": [
    "Rd1.subs({t:100})"
   ]
  },
  {
   "cell_type": "code",
   "execution_count": 5,
   "metadata": {},
   "outputs": [
    {
     "data": {
      "image/png": "[encoded data removed]",
      "text/latex": [
       "$\\displaystyle 0.999961936870403$"
      ],
      "text/plain": [
       "0.999961936870403"
      ]
     },
     "execution_count": 5,
     "metadata": {},
     "output_type": "execute_result"
    }
   ],
   "source": [
    "Rd2.subs({t:100})\n"
   ]
  },
  {
   "cell_type": "code",
   "execution_count": 6,
   "metadata": {},
   "outputs": [
    {
     "data": {
      "image/png": "[encoded data removed]",
      "text/latex": [
       "$\\displaystyle 0.990832314368114$"
      ],
      "text/plain": [
       "0.990832314368114"
      ]
     },
     "execution_count": 6,
     "metadata": {},
     "output_type": "execute_result"
    }
   ],
   "source": [
    "#Rd2(100)>Rd1(100), portanto Rd2 é o melhor design.\n",
    "\n",
    "\n",
    "Rd2.subs({t:2500})"
   ]
  },
  {
   "cell_type": "code",
   "execution_count": 7,
   "metadata": {},
   "outputs": [
    {
     "data": {
      "image/png": "[encoded data removed]",
      "text/latex": [
       "$\\displaystyle 105.37000000000019$"
      ],
      "text/plain": [
       "105.37000000000019"
      ]
     },
     "execution_count": 7,
     "metadata": {},
     "output_type": "execute_result"
    }
   ],
   "source": [
    "b = 105\n",
    "a=1\n",
    "while a > Rmin:\n",
    "    b = b+0.01\n",
    "    a = Rd1.subs({t:b})\n",
    "b"
   ]
  },
  {
   "cell_type": "code",
   "execution_count": 8,
   "metadata": {},
   "outputs": [
    {
     "data": {
      "image/png": "[encoded data removed]",
      "text/latex": [
       "$\\displaystyle 2686.3999999999996$"
      ],
      "text/plain": [
       "2686.3999999999996"
      ]
     },
     "execution_count": 8,
     "metadata": {},
     "output_type": "execute_result"
    }
   ],
   "source": [
    "b = 2686\n",
    "a=1\n",
    "while a > Rmin:\n",
    "    b = b+0.1\n",
    "    a = Rd2.subs({t:b})\n",
    "b"
   ]
  },
  {
   "cell_type": "code",
   "execution_count": 9,
   "metadata": {},
   "outputs": [],
   "source": [
    "Rd22=Ra**2+Rc**2-Ra**2*Rc**2"
   ]
  },
  {
   "cell_type": "code",
   "execution_count": 10,
   "metadata": {},
   "outputs": [
    {
     "data": {
      "image/png": "[encoded data removed]",
      "text/latex": [
       "$\\displaystyle 5025.400000000092$"
      ],
      "text/plain": [
       "5025.400000000092"
      ]
     },
     "execution_count": 10,
     "metadata": {},
     "output_type": "execute_result"
    }
   ],
   "source": [
    "b = 5000\n",
    "a=1\n",
    "while a > Rmin:\n",
    "    b = b+0.1\n",
    "    a = Rd22.subs({t:b})\n",
    "b"
   ]
  },
  {
   "cell_type": "code",
   "execution_count": 11,
   "metadata": {},
   "outputs": [
    {
     "data": {
      "image/png": "[encoded data removed]",
      "text/latex": [
       "$\\displaystyle 0.999963749775759$"
      ],
      "text/plain": [
       "0.999963749775759"
      ]
     },
     "execution_count": 11,
     "metadata": {},
     "output_type": "execute_result"
    }
   ],
   "source": [
    "Rd22.subs({t:100})"
   ]
  },
  {
   "cell_type": "code",
   "execution_count": 12,
   "metadata": {},
   "outputs": [],
   "source": [
    "Rd3=1-((Fa+Fb)*(Fc*Fd))"
   ]
  },
  {
   "cell_type": "code",
   "execution_count": 25,
   "metadata": {
    "scrolled": true
   },
   "outputs": [
    {
     "data": {
      "text/plain": [
       "[<matplotlib.lines.Line2D at 0x19b9e775848>]"
      ]
     },
     "execution_count": 25,
     "metadata": {},
     "output_type": "execute_result"
    },
    {
     "data": {
      "image/png": "[encoded data removed]",
      "text/plain": [
       "<Figure size 432x288 with 1 Axes>"
      ]
     },
     "metadata": {
      "needs_background": "light"
     },
     "output_type": "display_data"
    }
   ],
   "source": [
    "vector = np.arange(0,5500)\n",
    "def predict(var):\n",
    "    return Rd2.subs({t:var})\n",
    "\n",
    "def predict2(var):\n",
    "    return Rd22.subs({t:var})\n",
    "\n",
    "predict_v = np.vectorize(predict)\n",
    "predict2_v = np.vectorize(predict2)\n",
    "plt.plot(vector,predict_v(vector))\n",
    "plt.plot(vector,predict2_v(vector))"
   ]
  },
  {
   "cell_type": "code",
   "execution_count": null,
   "metadata": {},
   "outputs": [],
   "source": [
    "\n"
   ]
  }
 ],
 "metadata": {
  "kernelspec": {
   "display_name": "Python 3",
   "language": "python",
   "name": "python3"
  },
  "language_info": {
   "codemirror_mode": {
    "name": "ipython",
    "version": 3
   },
   "file_extension": ".py",
   "mimetype": "text/x-python",
   "name": "python",
   "nbconvert_exporter": "python",
   "pygments_lexer": "ipython3",
   "version": "3.7.4"
  }
 },
 "nbformat": 4,
 "nbformat_minor": 2
}
