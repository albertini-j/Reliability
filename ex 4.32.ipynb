{
 "cells": [
  {
   "cell_type": "code",
   "execution_count": 1,
   "metadata": {},
   "outputs": [
    {
     "name": "stdout",
     "output_type": "stream",
     "text": [
      "IPython console for SymPy 1.4 (Python 3.7.4-64-bit) (ground types: python)\n",
      "\n",
      "These commands were executed:\n",
      ">>> from __future__ import division\n",
      ">>> from sympy import *\n",
      ">>> x, y, z, t = symbols('x y z t')\n",
      ">>> k, m, n = symbols('k m n', integer=True)\n",
      ">>> f, g, h = symbols('f g h', cls=Function)\n",
      ">>> init_printing()\n",
      "\n",
      "Documentation can be found at https://docs.sympy.org/1.4/\n",
      "\n"
     ]
    }
   ],
   "source": [
    "#Modarres - Ex 4.32\n",
    "\n",
    "from sympy import *\n",
    "init_session()\n",
    "from sympy.stats import *\n",
    "import matplotlib.pyplot as plt\n",
    "import numpy as np\n",
    "\n",
    "\n",
    "F, a, b, R, mttf, l =symbols('F a b R mttf l')"
   ]
  },
  {
   "cell_type": "code",
   "execution_count": 4,
   "metadata": {},
   "outputs": [
    {
     "data": {
      "image/png": "[encoded data removed]",
      "text/latex": [
       "$\\displaystyle - e^{- 0.34 t} + e^{- 0.32 t} + e^{- 0.29 t} + e^{- 0.26 t} - e^{- 0.25 t} - 3 e^{- 0.22 t} - e^{- 0.21 t} + 3 e^{- 0.2 t} - e^{- 0.19 t} + e^{- 0.17 t} + 3 e^{- 0.14 t} - e^{- 0.13 t} - e^{- 0.1 t} - e^{- 0.09 t} + e^{- 0.08 t} - e^{- 0.07 t} + e^{- 0.02 t}$"
      ],
      "text/plain": [
       "   -0.34⋅t    -0.32⋅t    -0.29⋅t    -0.26⋅t    -0.25⋅t      -0.22⋅t    -0.21⋅t\n",
       "- ℯ        + ℯ        + ℯ        + ℯ        - ℯ        - 3⋅ℯ        - ℯ       \n",
       "\n",
       "      -0.2⋅t    -0.19⋅t    -0.17⋅t      -0.14⋅t    -0.13⋅t    -0.1⋅t    -0.09⋅\n",
       " + 3⋅ℯ       - ℯ        + ℯ        + 3⋅ℯ        - ℯ        - ℯ       - ℯ      \n",
       "\n",
       "t    -0.08⋅t    -0.07⋅t    -0.02⋅t\n",
       "  + ℯ        - ℯ        + ℯ       "
      ]
     },
     "execution_count": 4,
     "metadata": {},
     "output_type": "execute_result"
    }
   ],
   "source": [
    "la=0.08\n",
    "lb=0.02\n",
    "lc=0.07\n",
    "ld=0.05\n",
    "le=0.01\n",
    "lf=0.05\n",
    "lg=0.05\n",
    "lh=0.05\n",
    "\n",
    "Ra=exp(-la*t)\n",
    "Rb=exp(-lb*t)\n",
    "Rc=exp(-lc*t)\n",
    "Rd=exp(-ld*t)\n",
    "Re=exp(-le*t)\n",
    "Rf=exp(-lf*t)\n",
    "Rg=exp(-lg*t)\n",
    "Rh=exp(-lh*t)\n",
    "\n",
    "Fa=1-Ra\n",
    "Fb=1-Rb\n",
    "Fc=1-Rc\n",
    "Fd=1-Rd\n",
    "Fe=1-Re\n",
    "Ff=1-Rf\n",
    "Fg=1-Rg\n",
    "Fh=1-Rh\n",
    "\n",
    "\n",
    "#T1 = G1 * G2\n",
    "Rg1=1-Fa*Fb\n",
    "Rg2= (1-(1-Fc)*(1-Rd))*(1-(1-Rc)*(1-Fd))\n",
    "Fg1 = 1-Rg1\n",
    "Fg2 = 1-Rg2\n",
    "Rt1 = Rg1*Rg2\n",
    "expand(Rt1)\n",
    "\n",
    "\n"
   ]
  },
  {
   "cell_type": "code",
   "execution_count": null,
   "metadata": {},
   "outputs": [],
   "source": [
    "#T2 = E * KdN"
   ]
  },
  {
   "cell_type": "code",
   "execution_count": 5,
   "metadata": {},
   "outputs": [
    {
     "data": {
      "image/png": "[encoded data removed]",
      "text/latex": [
       "$\\displaystyle - e^{- 0.31 t} + e^{- 0.3 t} + 3 e^{- 0.21 t} - 3 e^{- 0.2 t} - 3 e^{- 0.11 t} + 3 e^{- 0.1 t} + e^{- 0.01 t}$"
      ],
      "text/plain": [
       "   -0.31⋅t    -0.3⋅t      -0.21⋅t      -0.2⋅t      -0.11⋅t      -0.1⋅t    -0.0\n",
       "- ℯ        + ℯ       + 3⋅ℯ        - 3⋅ℯ       - 3⋅ℯ        + 3⋅ℯ       + ℯ    \n",
       "\n",
       "1⋅t\n",
       "   "
      ]
     },
     "execution_count": 5,
     "metadata": {},
     "output_type": "execute_result"
    }
   ],
   "source": [
    "Rkdn1=(Rf*Rg)\n",
    "Rkdn2= (Rf*Rh)\n",
    "Rkdn3= (Rg*Rh)\n",
    "Fkdn1=1-Rkdn1\n",
    "Fkdn2=1-Rkdn2\n",
    "Fkdn3=1-Rkdn3\n",
    "Rkdn=1-(Fkdn1*Fkdn2*Fkdn3)\n",
    "Fkdn=1-Rkdn\n",
    "Rt2=1-(Fe*Fkdn)\n",
    "expand(Rt2)"
   ]
  },
  {
   "cell_type": "code",
   "execution_count": 6,
   "metadata": {},
   "outputs": [],
   "source": []
  },
  {
   "cell_type": "code",
   "execution_count": null,
   "metadata": {},
   "outputs": [],
   "source": []
  }
 ],
 "metadata": {
  "kernelspec": {
   "display_name": "Python 3",
   "language": "python",
   "name": "python3"
  },
  "language_info": {
   "codemirror_mode": {
    "name": "ipython",
    "version": 3
   },
   "file_extension": ".py",
   "mimetype": "text/x-python",
   "name": "python",
   "nbconvert_exporter": "python",
   "pygments_lexer": "ipython3",
   "version": "3.7.4"
  }
 },
 "nbformat": 4,
 "nbformat_minor": 2
}
