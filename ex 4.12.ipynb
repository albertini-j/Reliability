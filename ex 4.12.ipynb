{
 "cells": [
  {
   "cell_type": "code",
   "execution_count": 1,
   "metadata": {
    "scrolled": true
   },
   "outputs": [
    {
     "name": "stdout",
     "output_type": "stream",
     "text": [
      "IPython console for SymPy 1.4 (Python 3.7.4-64-bit) (ground types: python)\n",
      "\n",
      "These commands were executed:\n",
      ">>> from __future__ import division\n",
      ">>> from sympy import *\n",
      ">>> x, y, z, t = symbols('x y z t')\n",
      ">>> k, m, n = symbols('k m n', integer=True)\n",
      ">>> f, g, h = symbols('f g h', cls=Function)\n",
      ">>> init_printing()\n",
      "\n",
      "Documentation can be found at https://docs.sympy.org/1.4/\n",
      "\n"
     ]
    }
   ],
   "source": [
    "#Modarres - Ex 4.12\n",
    "\n",
    "from sympy import *\n",
    "init_session()\n",
    "from sympy.stats import *\n",
    "import matplotlib.pyplot as plt\n",
    "import numpy as np\n",
    "\n",
    "\n",
    "F, a, b, R, mttf, l =symbols('F a b R mttf l')"
   ]
  },
  {
   "cell_type": "code",
   "execution_count": 2,
   "metadata": {},
   "outputs": [],
   "source": [
    "p1,p2,p3,v =symbols('p1 p2 p3 v')"
   ]
  },
  {
   "cell_type": "code",
   "execution_count": 3,
   "metadata": {},
   "outputs": [],
   "source": [
    "Rv, Rp = symbols('Rv Rp')"
   ]
  },
  {
   "cell_type": "code",
   "execution_count": 4,
   "metadata": {},
   "outputs": [],
   "source": [
    "# expressão do evento topo é v*(p1+p2+p3)\n",
    "#A) a expressão da confiabilidade pela árvore de sucesso\n",
    "#T = Rv*(1-(1-Rp)**3)\n",
    "Top= Rv * ( 3*Rp - 3*Rp**2+Rp**3)"
   ]
  },
  {
   "cell_type": "code",
   "execution_count": 5,
   "metadata": {},
   "outputs": [
    {
     "data": {
      "image/png": "[encoded data removed]",
      "text/latex": [
       "$\\displaystyle Rv \\left(Rp^{3} - 3 Rp^{2} + 3 Rp\\right)$"
      ],
      "text/plain": [
       "   ⎛  3       2       ⎞\n",
       "Rv⋅⎝Rp  - 3⋅Rp  + 3⋅Rp⎠"
      ]
     },
     "execution_count": 5,
     "metadata": {},
     "output_type": "execute_result"
    }
   ],
   "source": [
    "Top"
   ]
  },
  {
   "cell_type": "code",
   "execution_count": 24,
   "metadata": {},
   "outputs": [
    {
     "data": {
      "image/png": "[encoded data removed]",
      "text/latex": [
       "$\\displaystyle 0.995016380029442$"
      ],
      "text/plain": [
       "0.995016380029442"
      ]
     },
     "execution_count": 24,
     "metadata": {},
     "output_type": "execute_result"
    }
   ],
   "source": [
    "#b) a confiabilidade média de um system em um período T\n",
    "lv, lp, T = symbols('lv lp T')\n",
    "Rt=Top.subs({Rp:exp(-lp*t)}).subs({Rv:exp(-lv*t)})\n",
    "Ravg= Integral(Rt,(t,0,T))/T\n",
    "N(Ravg.subs({lv:0.001}).subs({lp:0.001}).subs({T:10}))\n"
   ]
  },
  {
   "cell_type": "code",
   "execution_count": 10,
   "metadata": {},
   "outputs": [
    {
     "data": {
      "image/png": "[encoded data removed]",
      "text/latex": [
       "$\\displaystyle 0.904057643224431$"
      ],
      "text/plain": [
       "0.904057643224431"
      ]
     },
     "execution_count": 10,
     "metadata": {},
     "output_type": "execute_result"
    }
   ],
   "source": [
    "#c1) repetir para o caso que l*t < 0\n",
    "Top.subs({Rv:exp(-0.1)}).subs({Rp:exp(-0.1)})\n",
    "\n",
    "\n"
   ]
  },
  {
   "cell_type": "code",
   "execution_count": null,
   "metadata": {},
   "outputs": [],
   "source": [
    "#c2) calcular a confiabilidade média quando l=0.001 e T=10 \n",
    "A = Top.subs({Rv:exp(-0.01)}).subs({Rp:exp(-0.01)})"
   ]
  }
 ],
 "metadata": {
  "kernelspec": {
   "display_name": "Python 3",
   "language": "python",
   "name": "python3"
  },
  "language_info": {
   "codemirror_mode": {
    "name": "ipython",
    "version": 3
   },
   "file_extension": ".py",
   "mimetype": "text/x-python",
   "name": "python",
   "nbconvert_exporter": "python",
   "pygments_lexer": "ipython3",
   "version": "3.7.4"
  }
 },
 "nbformat": 4,
 "nbformat_minor": 2
}
