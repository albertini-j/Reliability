{
 "cells": [
  {
   "cell_type": "code",
   "execution_count": 1,
   "metadata": {},
   "outputs": [
    {
     "name": "stdout",
     "output_type": "stream",
     "text": [
      "IPython console for SymPy 1.4 (Python 3.7.4-64-bit) (ground types: python)\n",
      "\n",
      "These commands were executed:\n",
      ">>> from __future__ import division\n",
      ">>> from sympy import *\n",
      ">>> x, y, z, t = symbols('x y z t')\n",
      ">>> k, m, n = symbols('k m n', integer=True)\n",
      ">>> f, g, h = symbols('f g h', cls=Function)\n",
      ">>> init_printing()\n",
      "\n",
      "Documentation can be found at https://docs.sympy.org/1.4/\n",
      "\n"
     ]
    }
   ],
   "source": [
    " #Modarres - Ex 4.34\n",
    "    \n",
    "from sympy import *\n",
    "init_session()\n",
    "from sympy.stats import *\n",
    "import matplotlib.pyplot as plt\n",
    "import numpy as np\n",
    "\n",
    "\n",
    "F, a, b, R, mttf, l =symbols('F a b R mttf l')\n",
    "t1 = symbols('t1')\n",
    "def paralelo(*confiabilidades):\n",
    "    temporario=np.array(confiabilidades)\n",
    "    temporario=np.subtract(1,temporario)\n",
    "    temporario=np.prod(temporario)\n",
    "    return 1-temporario\n",
    "\n",
    "def serie(*confiabilidades):\n",
    "    temporario = np.array(confiabilidades)\n",
    "    return np.prod(temporario)\n",
    "\n",
    "def loadshare(RhL,RfL,fhL): #informar todos em função de t\n",
    "    return RhL**2+2*integrate(fhL.subs({t:t1})*RhL.subs({t:t1})*RfL.subs({t:(t-t1)}),(t1,0,t))\n",
    "\n",
    "def perfect_ss(R1S,R2S,f1S): #informar todos em função de t\n",
    "    return R1S+integrate(f1S.subs({t:t1})*R2S.subs({t:(t-t1)}),(t1,0,t))"
   ]
  },
  {
   "cell_type": "code",
   "execution_count": 2,
   "metadata": {},
   "outputs": [
    {
     "data": {
      "image/png": "[encoded data removed]",
      "text/latex": [
       "$\\displaystyle 0.9360566064$"
      ],
      "text/plain": [
       "0.9360566064"
      ]
     },
     "execution_count": 2,
     "metadata": {},
     "output_type": "execute_result"
    }
   ],
   "source": [
    "Ra=0.98\n",
    "Rb=0.9\n",
    "Rc=0.78\n",
    "Rd=0.99\n",
    "Re=0.8\n",
    "RX=0.9\n",
    "\n",
    "R1=paralelo(Rb,Rd)\n",
    "\n",
    "R2=paralelo(Rc,Re)\n",
    "Rs1= serie(Ra,R1,R2,RX)\n",
    "\n",
    "R3=serie(Rb,Rc)\n",
    "R4=serie(Rd,Re)\n",
    "R5= paralelo(R3,R4)\n",
    "Rs2=serie(R5,R1,(1-RX))\n",
    "\n",
    "Rs=Rs1+Rs2\n",
    "Rs\n"
   ]
  }
 ],
 "metadata": {
  "kernelspec": {
   "display_name": "Python 3",
   "language": "python",
   "name": "python3"
  },
  "language_info": {
   "codemirror_mode": {
    "name": "ipython",
    "version": 3
   },
   "file_extension": ".py",
   "mimetype": "text/x-python",
   "name": "python",
   "nbconvert_exporter": "python",
   "pygments_lexer": "ipython3",
   "version": "3.7.4"
  }
 },
 "nbformat": 4,
 "nbformat_minor": 2
}
