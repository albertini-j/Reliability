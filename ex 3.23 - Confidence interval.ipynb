{
 "cells": [
  {
   "cell_type": "code",
   "execution_count": 1,
   "metadata": {},
   "outputs": [
    {
     "name": "stdout",
     "output_type": "stream",
     "text": [
      "IPython console for SymPy 1.4 (Python 3.7.4-64-bit) (ground types: python)\n",
      "\n",
      "These commands were executed:\n",
      ">>> from __future__ import division\n",
      ">>> from sympy import *\n",
      ">>> x, y, z, t = symbols('x y z t')\n",
      ">>> k, m, n = symbols('k m n', integer=True)\n",
      ">>> f, g, h = symbols('f g h', cls=Function)\n",
      ">>> init_printing()\n",
      "\n",
      "Documentation can be found at https://docs.sympy.org/1.4/\n",
      "\n"
     ]
    }
   ],
   "source": [
    "#ex 3.23\n",
    "from sympy import *\n",
    "init_session()\n",
    "from sympy.stats import *\n",
    "import matplotlib.pyplot as plt\n",
    "import numpy as np\n",
    "\n",
    "\n",
    "F, a, b, R, mttf, l =symbols('F a b R mttf l')"
   ]
  },
  {
   "cell_type": "code",
   "execution_count": 2,
   "metadata": {},
   "outputs": [
    {
     "name": "stdout",
     "output_type": "stream",
     "text": [
      "a)mttf=  495  h\n"
     ]
    }
   ],
   "source": [
    "T=25*15+24*5\n",
    "mttf=T\n",
    "print(\"a)mttf= \",mttf,\" h\")"
   ]
  },
  {
   "cell_type": "code",
   "execution_count": 14,
   "metadata": {},
   "outputs": [],
   "source": [
    "#X²95%(dof=2*1+2)=9.4877\n",
    "#X²5%(dof=2*1)=0.01\n",
    "x_inf=9.4877\n",
    "x_sup=0.01\n"
   ]
  },
  {
   "cell_type": "code",
   "execution_count": 15,
   "metadata": {},
   "outputs": [
    {
     "name": "stdout",
     "output_type": "stream",
     "text": [
      "b) Pr(  104.3  > mttf >  9.900e+4  )= 0.9\n"
     ]
    }
   ],
   "source": [
    "mttf_inf=N(2*T/x_inf,4)\n",
    "mttf_sup=N(2*T/x_sup,4)\n",
    "\n",
    "print(\"b) Pr( \",mttf_inf,\" > mttf > \",mttf_sup,\" )= 0.9\")\n"
   ]
  },
  {
   "cell_type": "code",
   "execution_count": 16,
   "metadata": {},
   "outputs": [
    {
     "name": "stdout",
     "output_type": "stream",
     "text": [
      "b) Pr(  0.7869  > R(25h) >  0.9997  )= 0.9\n"
     ]
    }
   ],
   "source": [
    "r_inf=N(exp(-(x_inf*25/(2*T))),4)\n",
    "r_sup=N(exp(-(x_sup*25/(2*T))),4)\n",
    "\n",
    "print(\"b) Pr( \",r_inf,\" > R(25h) > \",r_sup,\" )= 0.9\")\n"
   ]
  },
  {
   "cell_type": "code",
   "execution_count": null,
   "metadata": {},
   "outputs": [],
   "source": []
  }
 ],
 "metadata": {
  "kernelspec": {
   "display_name": "Python 3",
   "language": "python",
   "name": "python3"
  },
  "language_info": {
   "codemirror_mode": {
    "name": "ipython",
    "version": 3
   },
   "file_extension": ".py",
   "mimetype": "text/x-python",
   "name": "python",
   "nbconvert_exporter": "python",
   "pygments_lexer": "ipython3",
   "version": "3.7.4"
  }
 },
 "nbformat": 4,
 "nbformat_minor": 2
}
