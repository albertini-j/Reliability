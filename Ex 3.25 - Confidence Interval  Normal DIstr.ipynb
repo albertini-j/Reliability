{
 "cells": [
  {
   "cell_type": "code",
   "execution_count": 12,
   "metadata": {
    "scrolled": true
   },
   "outputs": [
    {
     "name": "stdout",
     "output_type": "stream",
     "text": [
      "IPython console for SymPy 1.4 (Python 3.7.4-64-bit) (ground types: python)\n",
      "\n",
      "These commands were executed:\n",
      ">>> from __future__ import division\n",
      ">>> from sympy import *\n",
      ">>> x, y, z, t = symbols('x y z t')\n",
      ">>> k, m, n = symbols('k m n', integer=True)\n",
      ">>> f, g, h = symbols('f g h', cls=Function)\n",
      ">>> init_printing()\n",
      "\n",
      "Documentation can be found at https://docs.sympy.org/1.4/\n",
      "\n"
     ]
    }
   ],
   "source": [
    "#ex 3.25 Modarres\n",
    "\n",
    "\n",
    "from sympy import *\n",
    "init_session()\n",
    "from sympy.stats import *\n",
    "import matplotlib.pyplot as plty\n",
    "import numpy as np\n",
    "\n",
    "\n",
    "media=4.38\n",
    "desvio=0.06\n",
    "n=10\n",
    "#t99.5%,9 degrees of freedom =3.2498\n",
    "\n",
    "#x²0,5%,9 dof=1,7349\n",
    "#X²99.5%, 9 dof=23,5894\n",
    "t=3.2498\n",
    "x_inf=23.5894\n",
    "x_sup=1.7349"
   ]
  },
  {
   "cell_type": "code",
   "execution_count": 8,
   "metadata": {},
   "outputs": [
    {
     "name": "stdout",
     "output_type": "stream",
     "text": [
      "Pr( 4.318  > mu >  4.442 ) > 0.99\n"
     ]
    }
   ],
   "source": [
    "mi_sup=N(media+t*desvio/sqrt(n),4)\n",
    "mi_inf=N(media-t*desvio/sqrt(n),4)\n",
    "print(\"Pr(\",mi_inf,\" > mu > \",mi_sup,\") > 0.99\")\n",
    "\n",
    "\n"
   ]
  },
  {
   "cell_type": "code",
   "execution_count": 13,
   "metadata": {},
   "outputs": [
    {
     "name": "stdout",
     "output_type": "stream",
     "text": [
      "Pr( 0.03706  > sigma >  0.1367 ) > 0.99\n"
     ]
    }
   ],
   "source": [
    "sigma_sup=N(sqrt((n-1)*(desvio**2)/x_sup),4)\n",
    "sigma_inf=N(sqrt((n-1)*(desvio**2)/x_inf),4)\n",
    "print(\"Pr(\",sigma_inf,\" > sigma > \",sigma_sup,\") > 0.99\")\n",
    "\n"
   ]
  },
  {
   "cell_type": "code",
   "execution_count": null,
   "metadata": {},
   "outputs": [],
   "source": []
  }
 ],
 "metadata": {
  "kernelspec": {
   "display_name": "Python 3",
   "language": "python",
   "name": "python3"
  },
  "language_info": {
   "codemirror_mode": {
    "name": "ipython",
    "version": 3
   },
   "file_extension": ".py",
   "mimetype": "text/x-python",
   "name": "python",
   "nbconvert_exporter": "python",
   "pygments_lexer": "ipython3",
   "version": "3.7.4"
  }
 },
 "nbformat": 4,
 "nbformat_minor": 2
}
