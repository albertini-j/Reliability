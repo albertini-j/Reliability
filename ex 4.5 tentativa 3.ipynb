{
 "cells": [
  {
   "cell_type": "code",
   "execution_count": 1,
   "metadata": {},
   "outputs": [
    {
     "name": "stdout",
     "output_type": "stream",
     "text": [
      "IPython console for SymPy 1.4 (Python 3.7.4-64-bit) (ground types: python)\n",
      "\n",
      "These commands were executed:\n",
      ">>> from __future__ import division\n",
      ">>> from sympy import *\n",
      ">>> x, y, z, t = symbols('x y z t')\n",
      ">>> k, m, n = symbols('k m n', integer=True)\n",
      ">>> f, g, h = symbols('f g h', cls=Function)\n",
      ">>> init_printing()\n",
      "\n",
      "Documentation can be found at https://docs.sympy.org/1.4/\n",
      "\n"
     ]
    }
   ],
   "source": [
    "# ex 4.5 Modarres\n",
    "\n",
    "from sympy import *\n",
    "init_session()\n",
    "from sympy.stats import *\n",
    "import matplotlib.pyplot as plt\n",
    "import numpy as np\n"
   ]
  },
  {
   "cell_type": "code",
   "execution_count": 2,
   "metadata": {},
   "outputs": [
    {
     "data": {
      "image/png": "[encoded data removed]",
      "text/latex": [
       "$\\displaystyle 0.99750312239746$"
      ],
      "text/plain": [
       "0.997503122397460"
      ]
     },
     "execution_count": 2,
     "metadata": {},
     "output_type": "execute_result"
    }
   ],
   "source": [
    "l=1*10**-6\n",
    "Rt=exp(-l*t)\n",
    "R=Rt.subs({t:2500})\n",
    "R\\"
   ]
  },
  {
   "cell_type": "code",
   "execution_count": 5,
   "metadata": {},
   "outputs": [
    {
     "data": {
      "image/png": "[encoded data removed]",
      "text/latex": [
       "$\\displaystyle 0.999968750100814$"
      ],
      "text/plain": [
       "0.999968750100814"
      ]
     },
     "execution_count": 5,
     "metadata": {},
     "output_type": "execute_result"
    }
   ],
   "source": [
    "#cut-sets:\n",
    "#c1 = a*c\n",
    "#c2 = a*d\n",
    "#c3 = b*c\n",
    "#c4=  b*d\n",
    "#c5 = f*g\n",
    "#c6 = b*e*g\n",
    "#c7 = a*e*g\n",
    "#c8 = c*e*f\n",
    "#c9 = d*e*f\n",
    "#c10 = g*h*i\n",
    "#c11= c*e*h*i\n",
    "#c12 = d*e*h*i\n",
    "\n",
    "\n",
    "Fc1 = (1-R)**2\n",
    "Fc2 = (1-R)**2\n",
    "Fc3 = (1-R)**2\n",
    "Fc4 = (1-R)**2\n",
    "Fc5 = (1-R)**2\n",
    "Fc6 = (1-R)**3\n",
    "Fc7 = (1-R)**3\n",
    "Fc8 = (1-R)**3\n",
    "Fc9 = (1-R)**3\n",
    "Fc10 = (1-R)**3\n",
    "Fc11 = (1-R)**4\n",
    "Fc12 = (1-R)**4\n",
    "\n",
    "Rsys= 1-Fc1-Fc2-Fc3-Fc4-Fc5-Fc6-Fc7-Fc8-Fc9-Fc10-Fc11-Fc12\n",
    "Rsys\n"
   ]
  },
  {
   "cell_type": "code",
   "execution_count": null,
   "metadata": {},
   "outputs": [],
   "source": []
  },
  {
   "cell_type": "code",
   "execution_count": null,
   "metadata": {},
   "outputs": [],
   "source": [
    "# "
   ]
  }
 ],
 "metadata": {
  "kernelspec": {
   "display_name": "Python 3",
   "language": "python",
   "name": "python3"
  },
  "language_info": {
   "codemirror_mode": {
    "name": "ipython",
    "version": 3
   },
   "file_extension": ".py",
   "mimetype": "text/x-python",
   "name": "python",
   "nbconvert_exporter": "python",
   "pygments_lexer": "ipython3",
   "version": "3.7.4"
  }
 },
 "nbformat": 4,
 "nbformat_minor": 2
}
