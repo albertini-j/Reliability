{
 "cells": [
  {
   "cell_type": "code",
   "execution_count": 1,
   "metadata": {},
   "outputs": [
    {
     "name": "stdout",
     "output_type": "stream",
     "text": [
      "IPython console for SymPy 1.4 (Python 3.7.4-64-bit) (ground types: python)\n",
      "\n",
      "These commands were executed:\n",
      ">>> from __future__ import division\n",
      ">>> from sympy import *\n",
      ">>> x, y, z, t = symbols('x y z t')\n",
      ">>> k, m, n = symbols('k m n', integer=True)\n",
      ">>> f, g, h = symbols('f g h', cls=Function)\n",
      ">>> init_printing()\n",
      "\n",
      "Documentation can be found at https://docs.sympy.org/1.4/\n",
      "\n"
     ]
    }
   ],
   "source": [
    "#exercicio 3.18 - fazer um weibull plot dos dados de teste\n",
    "\n",
    "from sympy import *\n",
    "init_session()\n",
    "from sympy.stats import *\n",
    "import matplotlib.pyplot as plt\n",
    "import numpy as np\n",
    "\n",
    "\n",
    "F, a, b, R, mttf, l =symbols('F a b R mttf l')\n",
    "tempos=[0.4,1,2,5,8,12,25]\n",
    "freq=[1,3,5,15,20,30,50]\n",
    "data=np.array(tempos)\n",
    "ln_data=np.log(data)"
   ]
  },
  {
   "cell_type": "code",
   "execution_count": 2,
   "metadata": {},
   "outputs": [
    {
     "name": "stdout",
     "output_type": "stream",
     "text": [
      "[0.9949698189134809, 0.9708249496981891, 0.9305835010060363, 0.8098591549295775, 0.6488933601609658, 0.4074446680080483, 0.005030181086519115]\n",
      "[-5.28977891631317, -3.51967335287434, -2.63187461913410, -1.55639523522880, -0.838203265530209, -0.107752107067350, 1.66625280062900]\n"
     ]
    },
    {
     "data": {
      "text/plain": [
       "[<matplotlib.lines.Line2D at 0x1f82f9dae88>]"
      ]
     },
     "execution_count": 2,
     "metadata": {},
     "output_type": "execute_result"
    },
    {
     "data": {
      "image/png": "[encoded data removed]",
      "text/plain": [
       "<Figure size 432x288 with 1 Axes>"
      ]
     },
     "metadata": {
      "needs_background": "light"
     },
     "output_type": "display_data"
    }
   ],
   "source": [
    "\n",
    "\n",
    "\n",
    "Rlist=[]\n",
    "Rlist_inv=[]\n",
    "Rlist_inv_ln=[]\n",
    "sobreviventes=np.sum(freq)\n",
    "n=np.sum(freq)\n",
    "for i in range(len(tempos)):\n",
    "    #Ri=1-i/10\n",
    "    Ri=((sobreviventes-freq[i])+0.625)/(n+0.25)\n",
    "    Rlist.append(Ri)\n",
    "    inverso=1/Rlist[i]\n",
    "    Rlist_inv.append(inverso)\n",
    "    logn_logn_r_inverso=ln(ln(inverso))\n",
    "    Rlist_inv_ln.append(logn_logn_r_inverso) #inclui ln(ln(1/R(ti)))\n",
    "    sobreviventes = sobreviventes-freq[i]\n",
    "\n",
    "print(Rlist)\n",
    "print(Rlist_inv_ln)\n",
    "plt.plot(tempos,Rlist)\n"
   ]
  },
  {
   "cell_type": "code",
   "execution_count": 4,
   "metadata": {},
   "outputs": [
    {
     "name": "stdout",
     "output_type": "stream",
     "text": [
      "fitted slope\n",
      "1.56385590892898\n",
      "fitted bias\n",
      "-3.80246145601947\n"
     ]
    },
    {
     "data": {
      "text/plain": [
       "[<matplotlib.lines.Line2D at 0x1f831024d48>]"
      ]
     },
     "execution_count": 4,
     "metadata": {},
     "output_type": "execute_result"
    },
    {
     "data": {
      "image/png": "[encoded data removed]",
      "text/plain": [
       "<Figure size 432x288 with 1 Axes>"
      ]
     },
     "metadata": {
      "needs_background": "light"
     },
     "output_type": "display_data"
    }
   ],
   "source": [
    "\n",
    "R0368= np.array([0.368])\n",
    "\n",
    "x_axis = np.array(ln_data)\n",
    "y_axis = np.array(Rlist_inv_ln)\n",
    "\n",
    "#regressão linear dos eixos X e Y - eq 2.156 Modarres - Método dos menores quadrados \n",
    "x_mean=np.mean(x_axis)\n",
    "y_mean=np.mean(y_axis)\n",
    "x_xi=np.subtract(x_axis,x_mean) #xi-x_mean\n",
    "y_yi=np.subtract(y_axis,y_mean) #yi - y_mean\n",
    "numerador = np.sum(np.multiply(x_xi,y_yi))\n",
    "denumerador = np.sum(np.multiply(x_xi,x_xi))\n",
    "slope= numerador/denumerador\n",
    "bias = y_mean-slope*x_mean\n",
    "print('fitted slope')\n",
    "print(slope)\n",
    "print('fitted bias')\n",
    "print(bias)\n",
    "range_variable_start=-2.5 #definir a faixa de plotagem\n",
    "range_variable_end=5 #definir a faixa de plotagem conforme a faixa dos dados\n",
    "\n",
    "def predict(range_variable):\n",
    "    return slope*range_variable+bias\n",
    "beta=slope\n",
    "alfa= exp(-bias/beta)\n",
    "\n",
    "vector=np.arange(range_variable_start,range_variable_end)\n",
    "plt.grid(True)\n",
    "plt.text(1, -6, r'$\\alpha=$'+str(round(alfa,2)))\n",
    "plt.text(1, -7, r'$\\beta=$'+str(round(beta,2)))\n",
    "plt.text(-2, 2, \"y= \"+str(round(slope,2))+\"x + \"+str(round(bias,2)))\n",
    "plt.scatter(ln_data,Rlist_inv_ln)\n",
    "plt.xlabel('ln(test time)')\n",
    "plt.ylabel('ln(ln(1/R))')\n",
    "plt.title('Weibull distribution probability plotting')            \n",
    "#plt.legend()\n",
    "#plt.scatter(X_axis,Y_axis, label='data')\n",
    "plt.plot(vector,predict(vector), label='fitted line')\n",
    "#plt.plot(vector,R0368)\n",
    "\n"
   ]
  },
  {
   "cell_type": "code",
   "execution_count": null,
   "metadata": {},
   "outputs": [],
   "source": []
  },
  {
   "cell_type": "code",
   "execution_count": null,
   "metadata": {},
   "outputs": [],
   "source": [
    "print('parâmetros weibull')\n",
    "print('beta')\n",
    "print(beta)\n",
    "print('alfa')\n",
    "print(alfa)"
   ]
  },
  {
   "cell_type": "code",
   "execution_count": null,
   "metadata": {},
   "outputs": [],
   "source": []
  }
 ],
 "metadata": {
  "kernelspec": {
   "display_name": "Python 3",
   "language": "python",
   "name": "python3"
  },
  "language_info": {
   "codemirror_mode": {
    "name": "ipython",
    "version": 3
   },
   "file_extension": ".py",
   "mimetype": "text/x-python",
   "name": "python",
   "nbconvert_exporter": "python",
   "pygments_lexer": "ipython3",
   "version": "3.7.4"
  }
 },
 "nbformat": 4,
 "nbformat_minor": 2
}
