{
 "cells": [
  {
   "cell_type": "code",
   "execution_count": 1,
   "metadata": {},
   "outputs": [
    {
     "name": "stdout",
     "output_type": "stream",
     "text": [
      "IPython console for SymPy 1.4 (Python 3.7.4-64-bit) (ground types: python)\n",
      "\n",
      "These commands were executed:\n",
      ">>> from __future__ import division\n",
      ">>> from sympy import *\n",
      ">>> x, y, z, t = symbols('x y z t')\n",
      ">>> k, m, n = symbols('k m n', integer=True)\n",
      ">>> f, g, h = symbols('f g h', cls=Function)\n",
      ">>> init_printing()\n",
      "\n",
      "Documentation can be found at https://docs.sympy.org/1.4/\n",
      "\n"
     ]
    }
   ],
   "source": [
    "#Ebeling 9.20\n",
    "from sympy import *\n",
    "init_session()\n",
    "from sympy.stats import *\n",
    "import matplotlib.pyplot as plt\n",
    "import numpy as np\n",
    "\n",
    "F, a, b, R, mttf, l =symbols('F a b R mttf l')"
   ]
  },
  {
   "cell_type": "code",
   "execution_count": 3,
   "metadata": {},
   "outputs": [
    {
     "data": {
      "image/png": "[encoded data removed]",
      "text/latex": [
       "$\\displaystyle - 0.106339062590832 e^{- 4.56155281280883 t} + 1.10633906259083 e^{- 0.43844718719117 t}$"
      ],
      "text/plain": [
       "                     -4.56155281280883⋅t                     -0.43844718719117\n",
       "- 0.106339062590832⋅ℯ                    + 1.10633906259083⋅ℯ                 \n",
       "\n",
       "⋅t\n",
       "  "
      ]
     },
     "execution_count": 3,
     "metadata": {},
     "output_type": "execute_result"
    }
   ],
   "source": [
    "lp=1 #primary: 1/per day\n",
    "ls=2 #standby: 2/per day\n",
    "mttr=0.5 #day\n",
    "lr=1/mttr\n",
    "\n",
    "#no failures in standby\n",
    "\n",
    "t=symbols('t')\n",
    "\n",
    "k1=lp+ls+lr\n",
    "k2=lp*ls\n",
    "x1=(-k1+sqrt(k1**2-4*k2))/2\n",
    "x2=(-k1-sqrt(k1**2-4*k2))/2\n",
    "R=((k1+x1)*exp(x1*t)-(k1+x2)*exp(x2*t))/(x1-x2)\n",
    "R\n",
    "\n"
   ]
  },
  {
   "cell_type": "code",
   "execution_count": 4,
   "metadata": {},
   "outputs": [
    {
     "data": {
      "image/png": "[encoded data removed]",
      "text/latex": [
       "$\\displaystyle 0.712519124808031$"
      ],
      "text/plain": [
       "0.712519124808031"
      ]
     },
     "execution_count": 4,
     "metadata": {},
     "output_type": "execute_result"
    }
   ],
   "source": [
    "R.subs({t:1}) #confiabilidade em 1 dia de operaçao."
   ]
  },
  {
   "cell_type": "code",
   "execution_count": null,
   "metadata": {},
   "outputs": [],
   "source": []
  }
 ],
 "metadata": {
  "kernelspec": {
   "display_name": "Python 3",
   "language": "python",
   "name": "python3"
  },
  "language_info": {
   "codemirror_mode": {
    "name": "ipython",
    "version": 3
   },
   "file_extension": ".py",
   "mimetype": "text/x-python",
   "name": "python",
   "nbconvert_exporter": "python",
   "pygments_lexer": "ipython3",
   "version": "3.7.4"
  }
 },
 "nbformat": 4,
 "nbformat_minor": 4
}
