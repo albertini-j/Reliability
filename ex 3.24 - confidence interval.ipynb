{
 "cells": [
  {
   "cell_type": "code",
   "execution_count": 1,
   "metadata": {},
   "outputs": [
    {
     "name": "stdout",
     "output_type": "stream",
     "text": [
      "IPython console for SymPy 1.4 (Python 3.7.4-64-bit) (ground types: python)\n",
      "\n",
      "These commands were executed:\n",
      ">>> from __future__ import division\n",
      ">>> from sympy import *\n",
      ">>> x, y, z, t = symbols('x y z t')\n",
      ">>> k, m, n = symbols('k m n', integer=True)\n",
      ">>> f, g, h = symbols('f g h', cls=Function)\n",
      ">>> init_printing()\n",
      "\n",
      "Documentation can be found at https://docs.sympy.org/1.4/\n",
      "\n",
      "a) 0.15625\n"
     ]
    }
   ],
   "source": [
    "#ex 3.24 Modarres\n",
    "\n",
    "from sympy import *\n",
    "init_session()\n",
    "f=15\n",
    "n=96\n",
    "p=f/n\n",
    "print(\"a)\",p)"
   ]
  },
  {
   "cell_type": "code",
   "execution_count": 2,
   "metadata": {
    "scrolled": true
   },
   "outputs": [
    {
     "data": {
      "text/plain": [
       "True"
      ]
     },
     "execution_count": 2,
     "metadata": {},
     "output_type": "execute_result"
    }
   ],
   "source": [
    "a=p*n\n",
    "b=(1-p)*n\n",
    "a>5 and b>5 #verdadeiro, portanto posso aproximar meus dados a uma distribuição normal com mi=n*p e var=n*p*(1-p)"
   ]
  },
  {
   "cell_type": "code",
   "execution_count": 3,
   "metadata": {},
   "outputs": [],
   "source": [
    "mi=p*n\n",
    "var=n*p*(1-p)\n",
    "sigma=sqrt(var)"
   ]
  },
  {
   "cell_type": "code",
   "execution_count": 9,
   "metadata": {},
   "outputs": [],
   "source": [
    "#calculate 95% two sided de confidence interval for failure probability\n",
    "#t2.5%(95)=1.9853\n",
    "l_sup=1.9853*N(sigma/sqrt(n))+mi\n",
    "l_inf=-1.9853*N(sigma/sqrt(n))+mi"
   ]
  },
  {
   "cell_type": "code",
   "execution_count": 11,
   "metadata": {},
   "outputs": [
    {
     "name": "stdout",
     "output_type": "stream",
     "text": [
      "Pr( 0.1487  > p >  0.1638 ) > 0.95\n"
     ]
    }
   ],
   "source": [
    "p_sup=round(l_sup/n,4)\n",
    "p_inf=round(l_inf/n,4)\n",
    "print(\"Pr(\",p_inf,\" > p > \",p_sup,\") > 0.95\")"
   ]
  },
  {
   "cell_type": "code",
   "execution_count": null,
   "metadata": {},
   "outputs": [],
   "source": []
  },
  {
   "cell_type": "code",
   "execution_count": null,
   "metadata": {},
   "outputs": [],
   "source": []
  }
 ],
 "metadata": {
  "kernelspec": {
   "display_name": "Python 3",
   "language": "python",
   "name": "python3"
  },
  "language_info": {
   "codemirror_mode": {
    "name": "ipython",
    "version": 3
   },
   "file_extension": ".py",
   "mimetype": "text/x-python",
   "name": "python",
   "nbconvert_exporter": "python",
   "pygments_lexer": "ipython3",
   "version": "3.7.4"
  }
 },
 "nbformat": 4,
 "nbformat_minor": 2
}
