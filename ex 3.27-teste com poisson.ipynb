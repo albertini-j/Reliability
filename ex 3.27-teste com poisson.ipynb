{
 "cells": [
  {
   "cell_type": "code",
   "execution_count": 1,
   "metadata": {
    "scrolled": true
   },
   "outputs": [
    {
     "name": "stdout",
     "output_type": "stream",
     "text": [
      "IPython console for SymPy 1.4 (Python 3.7.4-64-bit) (ground types: python)\n",
      "\n",
      "These commands were executed:\n",
      ">>> from __future__ import division\n",
      ">>> from sympy import *\n",
      ">>> x, y, z, t = symbols('x y z t')\n",
      ">>> k, m, n = symbols('k m n', integer=True)\n",
      ">>> f, g, h = symbols('f g h', cls=Function)\n",
      ">>> init_printing()\n",
      "\n",
      "Documentation can be found at https://docs.sympy.org/1.4/\n",
      "\n"
     ]
    }
   ],
   "source": [
    "#exemplo apostila página 228\n",
    "from sympy import *\n",
    "init_session()\n",
    "from sympy.stats import *\n",
    "import matplotlib.pyplot as plt\n",
    "import numpy as np\n",
    "\n",
    "\n",
    "F, a, b, R, mttf, l , p,sigma_p, mi_p, q =symbols('F a b R mttf l p sigma_p mi_p q')\n",
    "\n",
    "u=0.001\n",
    "s=0.0005\n",
    "t=15000\n",
    "PrEO = l*t*exp(-l*t)  #Pr(E | Theta)"
   ]
  },
  {
   "cell_type": "code",
   "execution_count": 2,
   "metadata": {
    "scrolled": false
   },
   "outputs": [
    {
     "name": "stdout",
     "output_type": "stream",
     "text": [
      "         -15000⋅l\n",
      "15000⋅l⋅ℯ        \n"
     ]
    }
   ],
   "source": [
    "pprint(PrEO)\n",
    "p_i = np.linspace(0.000005,0.001,10000)"
   ]
  },
  {
   "cell_type": "code",
   "execution_count": 3,
   "metadata": {},
   "outputs": [],
   "source": [
    "FO=Normal('FO', u,s)"
   ]
  },
  {
   "cell_type": "code",
   "execution_count": 4,
   "metadata": {},
   "outputs": [],
   "source": [
    "N(density(FO)(0.001))\n",
    "PrxF=PrEO*density(FO)(l)"
   ]
  },
  {
   "cell_type": "code",
   "execution_count": 5,
   "metadata": {},
   "outputs": [
    {
     "name": "stdout",
     "output_type": "stream",
     "text": [
      "denominador =0.0122187260854020\n",
      "ou 81.8415924058341\n"
     ]
    }
   ],
   "source": [
    "\n",
    "\n",
    "numerical_integration=0\n",
    "guardando=[]\n",
    "temp_antigo=N(PrxF.subs(l,p_i[0]))                                    \n",
    "guardando.append(temp_antigo)\n",
    "for i in range(1,len(p_i)):\n",
    "    temp= N(PrxF.subs(l,p_i[i]))\n",
    "    guardando.append(temp)\n",
    "    numerical_integration = numerical_integration+(temp_antigo+temp)*(p_i[i]-p_i[i-1])/2\n",
    "    temp_antigo=temp\n",
    "print('denominador ='+str(numerical_integration))\n",
    "print('ou '+str(1/numerical_integration))"
   ]
  },
  {
   "cell_type": "code",
   "execution_count": 6,
   "metadata": {},
   "outputs": [],
   "source": [
    "numerador=np.array(guardando)"
   ]
  },
  {
   "cell_type": "code",
   "execution_count": 7,
   "metadata": {},
   "outputs": [],
   "source": [
    "pontos = np.divide(numerador,numerical_integration)"
   ]
  },
  {
   "cell_type": "code",
   "execution_count": 8,
   "metadata": {},
   "outputs": [
    {
     "data": {
      "text/plain": [
       "[<matplotlib.lines.Line2D at 0x1da52bd2548>]"
      ]
     },
     "execution_count": 8,
     "metadata": {},
     "output_type": "execute_result"
    },
    {
     "data": {
      "image/png": "[encoded data removed]",
      "text/plain": [
       "<Figure size 432x288 with 1 Axes>"
      ]
     },
     "metadata": {
      "needs_background": "light"
     },
     "output_type": "display_data"
    }
   ],
   "source": [
    "plt.plot(p_i,pontos)"
   ]
  },
  {
   "cell_type": "code",
   "execution_count": 9,
   "metadata": {},
   "outputs": [
    {
     "name": "stdout",
     "output_type": "stream",
     "text": [
      "integral numérica =0.999999999999992\n"
     ]
    }
   ],
   "source": [
    "numerical_integration2=0\n",
    "guardando2=[]\n",
    "temp_antigo=pontos[0]                                    \n",
    "for i in range(1,len(p_i)):\n",
    "    temp= pontos[i] \n",
    "    numerical_integration2 = numerical_integration2+(temp_antigo+temp)*(p_i[i]-p_i[i-1])/2\n",
    "    guardando2.append((temp_antigo+temp)*(p_i[i]-p_i[i-1])/2)\n",
    "    temp_antigo=temp\n",
    "print('integral numérica ='+str(numerical_integration2))\n",
    "    "
   ]
  },
  {
   "cell_type": "code",
   "execution_count": 10,
   "metadata": {},
   "outputs": [],
   "source": [
    "guardando2.append(0)\n",
    "cumsum = np.cumsum(guardando2)"
   ]
  },
  {
   "cell_type": "code",
   "execution_count": 11,
   "metadata": {},
   "outputs": [
    {
     "data": {
      "image/png": "[encoded data removed]",
      "text/latex": [
       "$\\displaystyle 3.1171117111711174e-05$"
      ],
      "text/plain": [
       "3.1171117111711174e-05"
      ]
     },
     "execution_count": 11,
     "metadata": {},
     "output_type": "execute_result"
    }
   ],
   "source": [
    "P05 = (np.abs(cumsum - 0.05)).argmin()\n",
    "p_i[P05]"
   ]
  },
  {
   "cell_type": "code",
   "execution_count": 12,
   "metadata": {},
   "outputs": [
    {
     "data": {
      "image/png": "[encoded data removed]",
      "text/latex": [
       "$\\displaystyle 0.00014262226222622263$"
      ],
      "text/plain": [
       "0.00014262226222622263"
      ]
     },
     "execution_count": 12,
     "metadata": {},
     "output_type": "execute_result"
    }
   ],
   "source": [
    "P50=  (np.abs(cumsum - 0.5)).argmin()\n",
    "p_i[P50]"
   ]
  },
  {
   "cell_type": "code",
   "execution_count": 13,
   "metadata": {},
   "outputs": [
    {
     "data": {
      "image/png": "[encoded data removed]",
      "text/latex": [
       "$\\displaystyle 0.0003871182118211821$"
      ],
      "text/plain": [
       "0.0003871182118211821"
      ]
     },
     "execution_count": 13,
     "metadata": {},
     "output_type": "execute_result"
    }
   ],
   "source": [
    "P95= (np.abs(cumsum - 0.95)).argmin()\n",
    "p_i[P95]"
   ]
  },
  {
   "cell_type": "code",
   "execution_count": 14,
   "metadata": {},
   "outputs": [
    {
     "data": {
      "text/plain": [
       "[<matplotlib.lines.Line2D at 0x1da522630c8>]"
      ]
     },
     "execution_count": 14,
     "metadata": {},
     "output_type": "execute_result"
    },
    {
     "data": {
      "image/png": "[encoded data removed]",
      "text/plain": [
       "<Figure size 432x288 with 1 Axes>"
      ]
     },
     "metadata": {
      "needs_background": "light"
     },
     "output_type": "display_data"
    }
   ],
   "source": [
    "plt.plot(p_i,cumsum)\n"
   ]
  },
  {
   "cell_type": "code",
   "execution_count": 15,
   "metadata": {},
   "outputs": [
    {
     "data": {
      "image/png": "[encoded data removed]",
      "text/latex": [
       "$\\displaystyle 0.299631979147703$"
      ],
      "text/plain": [
       "0.299631979147703"
      ]
     },
     "execution_count": 15,
     "metadata": {},
     "output_type": "execute_result"
    }
   ],
   "source": [
    "pontos[9999]"
   ]
  },
  {
   "cell_type": "code",
   "execution_count": null,
   "metadata": {},
   "outputs": [],
   "source": []
  }
 ],
 "metadata": {
  "kernelspec": {
   "display_name": "Python 3",
   "language": "python",
   "name": "python3"
  },
  "language_info": {
   "codemirror_mode": {
    "name": "ipython",
    "version": 3
   },
   "file_extension": ".py",
   "mimetype": "text/x-python",
   "name": "python",
   "nbconvert_exporter": "python",
   "pygments_lexer": "ipython3",
   "version": "3.7.4"
  }
 },
 "nbformat": 4,
 "nbformat_minor": 2
}
