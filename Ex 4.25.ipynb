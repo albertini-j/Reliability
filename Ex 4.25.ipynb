{
 "cells": [
  {
   "cell_type": "code",
   "execution_count": 1,
   "metadata": {},
   "outputs": [
    {
     "name": "stdout",
     "output_type": "stream",
     "text": [
      "IPython console for SymPy 1.4 (Python 3.7.4-64-bit) (ground types: python)\n",
      "\n",
      "These commands were executed:\n",
      ">>> from __future__ import division\n",
      ">>> from sympy import *\n",
      ">>> x, y, z, t = symbols('x y z t')\n",
      ">>> k, m, n = symbols('k m n', integer=True)\n",
      ">>> f, g, h = symbols('f g h', cls=Function)\n",
      ">>> init_printing()\n",
      "\n",
      "Documentation can be found at https://docs.sympy.org/1.4/\n",
      "\n"
     ]
    }
   ],
   "source": [
    " #Modarres - Ex 4.25\n",
    "    \n",
    "from sympy import *\n",
    "init_session()\n",
    "from sympy.stats import *\n",
    "import matplotlib.pyplot as plt\n",
    "import numpy as np\n",
    "%matplotlib qt\n",
    "\n",
    "F, a, b, R, mttf, l ,t1=symbols('F a b R mttf l t1')"
   ]
  },
  {
   "cell_type": "code",
   "execution_count": 26,
   "metadata": {},
   "outputs": [
    {
     "data": {
      "image/png": "[encoded data removed]",
      "text/latex": [
       "$\\displaystyle \\int\\limits_{0}^{t} 0.0001 e^{- 0.0001 t_{1}} e^{- 0.0001 t + 0.0001 t_{1}}\\, dt_{1} + e^{- 0.0001 t}$"
      ],
      "text/plain": [
       "t                                                             \n",
       "⌠                                                             \n",
       "⎮         -0.0001⋅t₁  -0.0001⋅t + 0.0001⋅t₁          -0.0001⋅t\n",
       "⎮ 0.0001⋅ℯ          ⋅ℯ                      d(t₁) + ℯ         \n",
       "⌡                                                             \n",
       "0                                                             "
      ]
     },
     "execution_count": 26,
     "metadata": {},
     "output_type": "execute_result"
    }
   ],
   "source": [
    "\n",
    "la=0.0001\n",
    "\n",
    "Ra=exp(-la*t)\n",
    "fa=la*exp(-la*t)\n",
    "Rab=Ra+Integral(fa.subs({t:(t1)})*Ra.subs({t:(t-t1)}),(t1,0,t))\n",
    "Rab"
   ]
  },
  {
   "cell_type": "code",
   "execution_count": 27,
   "metadata": {},
   "outputs": [
    {
     "data": {
      "image/png": "[encoded data removed]",
      "text/latex": [
       "$\\displaystyle 0.0001 t e^{- 0.0001 t} + e^{- 0.0001 t}$"
      ],
      "text/plain": [
       "          -0.0001⋅t    -0.0001⋅t\n",
       "0.0001⋅t⋅ℯ          + ℯ         "
      ]
     },
     "execution_count": 27,
     "metadata": {},
     "output_type": "execute_result"
    }
   ],
   "source": [
    "Rab=Ra+integrate(fa.subs({t:(t1)})*Ra.subs({t:(t-t1)}),(t1,0,t))\n",
    "Rab"
   ]
  },
  {
   "cell_type": "code",
   "execution_count": 3,
   "metadata": {},
   "outputs": [
    {
     "data": {
      "image/png": "[encoded data removed]",
      "text/latex": [
       "$\\displaystyle - 1.0 \\cdot 10^{-8} t^{2} e^{- 0.0002 t} - 0.0002 t e^{- 0.0002 t} + 0.0002 t e^{- 0.0001 t} - e^{- 0.0002 t} + 2 e^{- 0.0001 t}$"
      ],
      "text/plain": [
       "          2  -0.0002⋅t             -0.0002⋅t             -0.0001⋅t    -0.0002⋅\n",
       "- 1.0e-8⋅t ⋅ℯ          - 0.0002⋅t⋅ℯ          + 0.0002⋅t⋅ℯ          - ℯ        \n",
       "\n",
       "t      -0.0001⋅t\n",
       "  + 2⋅ℯ         "
      ]
     },
     "execution_count": 3,
     "metadata": {},
     "output_type": "execute_result"
    }
   ],
   "source": [
    "Rabcd=1-(1-Rab)**2\n",
    "expand(Rabcd)"
   ]
  },
  {
   "cell_type": "code",
   "execution_count": 4,
   "metadata": {},
   "outputs": [
    {
     "data": {
      "image/png": "[encoded data removed]",
      "text/latex": [
       "$\\displaystyle 0.999978108454753$"
      ],
      "text/plain": [
       "0.999978108454753"
      ]
     },
     "execution_count": 4,
     "metadata": {},
     "output_type": "execute_result"
    }
   ],
   "source": [
    "Rabcd_1000 = Rabcd.subs({t:1000})\n",
    "Rabcd_1000\n",
    "\n"
   ]
  },
  {
   "cell_type": "code",
   "execution_count": 32,
   "metadata": {},
   "outputs": [
    {
     "data": {
      "image/png": "[encoded data removed]",
      "text/latex": [
       "$\\displaystyle 0.999997567606084$"
      ],
      "text/plain": [
       "0.999997567606084"
      ]
     },
     "execution_count": 32,
     "metadata": {},
     "output_type": "execute_result"
    }
   ],
   "source": [
    "Fabcd_1000= 1-Rabcd_1000\n",
    "Fe=Fabcd_1000/0.9-Fabcd_1000\n",
    "Re=1-Fe\n",
    "Re"
   ]
  },
  {
   "cell_type": "code",
   "execution_count": 6,
   "metadata": {},
   "outputs": [
    {
     "data": {
      "image/png": "[encoded data removed]",
      "text/latex": [
       "$\\displaystyle 2.43239687456002 \\cdot 10^{-9}$"
      ],
      "text/plain": [
       "2.43239687456002e-9"
      ]
     },
     "execution_count": 6,
     "metadata": {},
     "output_type": "execute_result"
    }
   ],
   "source": [
    "#Re=exp(-le*1000)\n",
    "#ln(Re)=-le*1000\n",
    "le_max=log(Re)/-1000\n",
    "le_max"
   ]
  },
  {
   "cell_type": "code",
   "execution_count": 40,
   "metadata": {},
   "outputs": [
    {
     "data": {
      "image/png": "[encoded data removed]",
      "text/latex": [
       "$\\displaystyle 0.100000218916086$"
      ],
      "text/plain": [
       "0.100000218916086"
      ]
     },
     "execution_count": 40,
     "metadata": {},
     "output_type": "execute_result"
    }
   ],
   "source": [
    "Rsys_1000=Rabcd_1000*Re\n",
    "Rsys_1000\n",
    "Fsys_1000=1-Rsys_1000\n"
   ]
  },
  {
   "cell_type": "code",
   "execution_count": 8,
   "metadata": {},
   "outputs": [
    {
     "data": {
      "image/png": "[encoded data removed]",
      "text/latex": [
       "$\\displaystyle 27500.0$"
      ],
      "text/plain": [
       "27500.0000000000"
      ]
     },
     "execution_count": 8,
     "metadata": {},
     "output_type": "execute_result"
    }
   ],
   "source": [
    "MTTF_abcd=integrate(Rabcd,(t,0,oo))#apenas para entender como é a curva da confiabilidade de dois componentes em standby\n",
    "MTTF_abcd"
   ]
  },
  {
   "cell_type": "code",
   "execution_count": 28,
   "metadata": {},
   "outputs": [
    {
     "data": {
      "image/png": "[encoded data removed]",
      "text/latex": [
       "$\\displaystyle 3.63636363636364 \\cdot 10^{-5}$"
      ],
      "text/plain": [
       "3.63636363636364e-5"
      ]
     },
     "execution_count": 28,
     "metadata": {},
     "output_type": "execute_result"
    }
   ],
   "source": []
  },
  {
   "cell_type": "code",
   "execution_count": null,
   "metadata": {},
   "outputs": [],
   "source": []
  },
  {
   "cell_type": "code",
   "execution_count": 9,
   "metadata": {},
   "outputs": [
    {
     "data": {
      "image/png": "[encoded data removed]",
      "text/latex": [
       "$\\displaystyle 411117120.918389$"
      ],
      "text/plain": [
       "411117120.918389"
      ]
     },
     "execution_count": 9,
     "metadata": {},
     "output_type": "execute_result"
    }
   ],
   "source": [
    "Re= exp(-le_max*t)\n",
    "MTTF_e = integrate(Re,(t,0,oo))\n",
    "MTTF_e"
   ]
  },
  {
   "cell_type": "code",
   "execution_count": 10,
   "metadata": {},
   "outputs": [
    {
     "data": {
      "image/png": "[encoded data removed]",
      "text/latex": [
       "$\\displaystyle 0.999997567606084$"
      ],
      "text/plain": [
       "0.999997567606084"
      ]
     },
     "execution_count": 10,
     "metadata": {},
     "output_type": "execute_result"
    }
   ],
   "source": [
    "Re_1000 = Re.subs({t:1000})\n",
    "Re_1000"
   ]
  },
  {
   "cell_type": "code",
   "execution_count": 56,
   "metadata": {
    "scrolled": true
   },
   "outputs": [
    {
     "data": {
      "image/png": "[encoded data removed]",
      "text/latex": [
       "$\\displaystyle \\left( 0, \\  40000\\right)$"
      ],
      "text/plain": [
       "(0, 40000)"
      ]
     },
     "execution_count": 56,
     "metadata": {},
     "output_type": "execute_result"
    }
   ],
   "source": [
    "l_abcd=1/MTTF_abcd\n",
    "Req=exp(-l_abcd*t) #apenas para entender como é a curva da confiabilidade de dois componentes em standby\n",
    "vector = np.arange(0,40000,10)\n",
    "def predict(var):\n",
    "    return Rabcd.subs({t:var})\n",
    "\n",
    "def predict2(var):\n",
    "    return Req.subs({t:var})\n",
    "\n",
    "def predict3(var):\n",
    "    return Ra.subs({t:var})\n",
    "\n",
    "\n",
    "predict_v = np.vectorize(predict)\n",
    "predict2_v = np.vectorize(predict2)\n",
    "predict3_v = np.vectorize(predict3)\n",
    "plt.plot(vector,predict_v(vector),label='Rabcd(t)')\n",
    "plt.plot(vector,predict2_v(vector),label='Req(t)')\n",
    "#plt.plot(vector,predict3_v(vector))\n",
    "plt.legend(loc='best')\n",
    "plt.xlabel('Tempo (horas)')\n",
    "plt.ylabel('Confiabilidade')\n",
    "plt.grid()\n",
    "plt.ylim(0,1)\n",
    "plt.xlim(0,40000)"
   ]
  },
  {
   "cell_type": "code",
   "execution_count": 29,
   "metadata": {},
   "outputs": [
    {
     "data": {
      "image/png": "[encoded data removed]",
      "text/latex": [
       "$\\displaystyle 27500.0$"
      ],
      "text/plain": [
       "27500.0000000000"
      ]
     },
     "execution_count": 29,
     "metadata": {},
     "output_type": "execute_result"
    }
   ],
   "source": [
    "integrate(Req,(t,0,oo))"
   ]
  },
  {
   "cell_type": "code",
   "execution_count": 42,
   "metadata": {},
   "outputs": [
    {
     "data": {
      "image/png": "[encoded data removed]",
      "text/latex": [
       "$\\displaystyle 2.43238799980871 \\cdot 10^{-6}$"
      ],
      "text/plain": [
       "2.43238799980871e-6"
      ]
     },
     "execution_count": 42,
     "metadata": {},
     "output_type": "execute_result"
    }
   ],
   "source": [
    "#outra forma de resolver. REsultado mais preciso. \n",
    "#Fe2=0.1*Fsys\n",
    "#Fe2=0.1*(1-Rsys)\n",
    "#Fe2=0.1*(1-Re2*Rabcd)\n",
    "#Fe2=0.1*(1-(1-Fe2)*Rabcd)\n",
    "#10Fe2=1+Fe2*Rabcd-Rabcd\n",
    "#10Fe2-Rabcd*Fe2=1-Rabcd\n",
    "#(10-Rabcd)*Fe2= 1-Rabcd\n",
    "Fe2=(1-Rabcd_1000)/(10-Rabcd_1000)\n",
    "Fe2\n",
    "    "
   ]
  },
  {
   "cell_type": "code",
   "execution_count": 43,
   "metadata": {},
   "outputs": [
    {
     "data": {
      "image/png": "[encoded data removed]",
      "text/latex": [
       "$\\displaystyle 2.4323909580561 \\cdot 10^{-9}$"
      ],
      "text/plain": [
       "2.43239095805610e-9"
      ]
     },
     "execution_count": 43,
     "metadata": {},
     "output_type": "execute_result"
    }
   ],
   "source": [
    "Re2=1-Fe2\n",
    "le_max2=log(Re2)/-1000\n",
    "le_max2"
   ]
  },
  {
   "cell_type": "code",
   "execution_count": 46,
   "metadata": {},
   "outputs": [
    {
     "data": {
      "image/png": "[encoded data removed]",
      "text/latex": [
       "$\\displaystyle 0.999975676120002$"
      ],
      "text/plain": [
       "0.999975676120002"
      ]
     },
     "execution_count": 46,
     "metadata": {},
     "output_type": "execute_result"
    }
   ],
   "source": [
    "Rsys2_1000=Rabcd_1000*Re2\n",
    "Rsys2_1000\n"
   ]
  },
  {
   "cell_type": "code",
   "execution_count": 52,
   "metadata": {},
   "outputs": [
    {
     "data": {
      "image/png": "[encoded data removed]",
      "text/latex": [
       "$\\displaystyle 0.100000000000082$"
      ],
      "text/plain": [
       "0.100000000000082"
      ]
     },
     "execution_count": 52,
     "metadata": {},
     "output_type": "execute_result"
    }
   ],
   "source": [
    "Fsys2_1000=1-Rsys2_1000\n",
    "Fe2/Fsys2_1000"
   ]
  },
  {
   "cell_type": "code",
   "execution_count": 53,
   "metadata": {},
   "outputs": [
    {
     "data": {
      "image/png": "[encoded data removed]",
      "text/latex": [
       "$\\displaystyle 5.91650391153036 \\cdot 10^{-15}$"
      ],
      "text/plain": [
       "5.91650391153036e-15"
      ]
     },
     "execution_count": 53,
     "metadata": {},
     "output_type": "execute_result"
    }
   ],
   "source": [
    "le_max-le_max2"
   ]
  },
  {
   "cell_type": "code",
   "execution_count": 54,
   "metadata": {},
   "outputs": [
    {
     "data": {
      "image/png": "[encoded data removed]",
      "text/latex": [
       "$\\displaystyle 0$"
      ],
      "text/plain": [
       "0"
      ]
     },
     "execution_count": 54,
     "metadata": {},
     "output_type": "execute_result"
    }
   ],
   "source": [
    "Rteste=exp(-le_max2*1000)\n",
    "Rteste-Re2"
   ]
  },
  {
   "cell_type": "code",
   "execution_count": null,
   "metadata": {},
   "outputs": [],
   "source": []
  }
 ],
 "metadata": {
  "kernelspec": {
   "display_name": "Python 3",
   "language": "python",
   "name": "python3"
  },
  "language_info": {
   "codemirror_mode": {
    "name": "ipython",
    "version": 3
   },
   "file_extension": ".py",
   "mimetype": "text/x-python",
   "name": "python",
   "nbconvert_exporter": "python",
   "pygments_lexer": "ipython3",
   "version": "3.7.4"
  }
 },
 "nbformat": 4,
 "nbformat_minor": 2
}
