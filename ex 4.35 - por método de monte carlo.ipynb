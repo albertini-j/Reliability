{
 "cells": [
  {
   "cell_type": "code",
   "execution_count": 1,
   "metadata": {},
   "outputs": [
    {
     "name": "stdout",
     "output_type": "stream",
     "text": [
      "IPython console for SymPy 1.4 (Python 3.7.4-64-bit) (ground types: python)\n",
      "\n",
      "These commands were executed:\n",
      ">>> from __future__ import division\n",
      ">>> from sympy import *\n",
      ">>> x, y, z, t = symbols('x y z t')\n",
      ">>> k, m, n = symbols('k m n', integer=True)\n",
      ">>> f, g, h = symbols('f g h', cls=Function)\n",
      ">>> init_printing()\n",
      "\n",
      "Documentation can be found at https://docs.sympy.org/1.4/\n",
      "\n"
     ]
    }
   ],
   "source": [
    "from sympy import *\n",
    "init_session()\n",
    "from sympy.stats import *\n",
    "import matplotlib.pyplot as plt\n",
    "import numpy as np\n"
   ]
  },
  {
   "cell_type": "code",
   "execution_count": 2,
   "metadata": {},
   "outputs": [],
   "source": [
    "l3=10**-4\n",
    "l2=10**-3\n",
    "l1=10**-2\n"
   ]
  },
  {
   "cell_type": "code",
   "execution_count": null,
   "metadata": {},
   "outputs": [],
   "source": []
  },
  {
   "cell_type": "code",
   "execution_count": 3,
   "metadata": {},
   "outputs": [],
   "source": [
    "interacoes=1000000\n",
    "\n",
    "tl3_1 = np.random.exponential(1/l3,interacoes)\n",
    "#numpy.savetxt(\"l3_sample1.csv\", tl3, delimiter=\",\")\n",
    "tl3_2 = np.random.exponential(1/l3,interacoes)\n",
    "#numpy.savetxt(\"l3_sample2.csv\", tl3, delimiter=\",\")\n",
    "tl3_3 = np.random.exponential(1/l3,interacoes)\n",
    "#numpy.savetxt(\"l3_sample3.csv\", tl3, delimiter=\",\")\n",
    "\n",
    "tl2_1 = np.random.exponential(1/l2,interacoes)\n",
    "#numpy.savetxt(\"l2_sample1.csv\", tl2, delimiter=\",\")\n",
    "tl2_2 = np.random.exponential(1/l2,interacoes)\n",
    "#numpy.savetxt(\"l2_sample2.csv\", tl2, delimiter=\",\")\n",
    "\n",
    "tl1 = np.random.exponential(1/l1,interacoes)\n",
    "#numpy.savetxt(\"l1_sample1.csv\", tl1, delimiter=\",\")\n",
    "\n",
    "\n",
    "falhas=[]\n",
    "for i in range(0,interacoes):\n",
    "    falha_com_3=min(tl3_1[i],tl3_2[i],tl3_3[i])\n",
    "    falha_com_2=min(tl2_1[i],tl2_2[i])\n",
    "    falha_com_1=tl1[i]\n",
    "    tempo_falha=falha_com_3+falha_com_2+falha_com_1\n",
    "    falhas.append(tempo_falha)\n",
    "falhas=np.sort(falhas)"
   ]
  },
  {
   "cell_type": "code",
   "execution_count": 4,
   "metadata": {},
   "outputs": [
    {
     "data": {
      "text/plain": [
       "[<matplotlib.lines.Line2D at 0x1e9a88d2b08>]"
      ]
     },
     "execution_count": 4,
     "metadata": {},
     "output_type": "execute_result"
    },
    {
     "data": {
      "image/png": "[encoded data removed]",
      "text/plain": [
       "<Figure size 432x288 with 1 Axes>"
      ]
     },
     "metadata": {
      "needs_background": "light"
     },
     "output_type": "display_data"
    }
   ],
   "source": [
    "plt.plot(falhas)"
   ]
  },
  {
   "cell_type": "code",
   "execution_count": 5,
   "metadata": {},
   "outputs": [
    {
     "name": "stdout",
     "output_type": "stream",
     "text": [
      "0.939676\n",
      "0.060324000000000044\n"
     ]
    }
   ],
   "source": [
    "#número de falhas antes de 10 000h:\n",
    "F=(falhas<10000).sum()/interacoes\n",
    "R=1-F\n",
    "print(F)\n",
    "print(R)"
   ]
  },
  {
   "cell_type": "code",
   "execution_count": 6,
   "metadata": {},
   "outputs": [],
   "source": [
    "interacoes=1000000\n",
    "l2=0.002\n",
    "l1=0.003\n",
    "\n",
    "tl2_1 = np.random.exponential(1/l2,interacoes)\n",
    "#numpy.savetxt(\"l2_sample1.csv\", tl2, delimiter=\",\")\n",
    "tl2_2 = np.random.exponential(1/l2,interacoes)\n",
    "#numpy.savetxt(\"l2_sample2.csv\", tl2, delimiter=\",\")\n",
    "\n",
    "tl1 = np.random.exponential(1/l1,interacoes)\n",
    "#numpy.savetxt(\"l1_sample1.csv\", tl1, delimiter=\",\")\n",
    "\n",
    "\n",
    "falhas=[]\n",
    "for i in range(0,interacoes):\n",
    "    falha_com_2=min(tl2_1[i],tl2_2[i])\n",
    "    falha_com_1=tl1[i]\n",
    "    tempo_falha=falha_com_2+falha_com_1\n",
    "    falhas.append(tempo_falha)\n",
    "falhas=np.sort(falhas)\n",
    "\n"
   ]
  },
  {
   "cell_type": "code",
   "execution_count": 7,
   "metadata": {},
   "outputs": [
    {
     "name": "stdout",
     "output_type": "stream",
     "text": [
      "0.939676\n",
      "0.060324000000000044\n",
      "582.9295661778167\n"
     ]
    }
   ],
   "source": [
    "#número de falhas antes de 10 000h:\n",
    "\n",
    "MTTF=np.sum(falhas)/interacoes\n",
    "print(F)\n",
    "print(R)\n",
    "print(MTTF)"
   ]
  },
  {
   "cell_type": "code",
   "execution_count": null,
   "metadata": {},
   "outputs": [],
   "source": []
  }
 ],
 "metadata": {
  "kernelspec": {
   "display_name": "Python 3",
   "language": "python",
   "name": "python3"
  },
  "language_info": {
   "codemirror_mode": {
    "name": "ipython",
    "version": 3
   },
   "file_extension": ".py",
   "mimetype": "text/x-python",
   "name": "python",
   "nbconvert_exporter": "python",
   "pygments_lexer": "ipython3",
   "version": "3.7.4"
  }
 },
 "nbformat": 4,
 "nbformat_minor": 2
}
