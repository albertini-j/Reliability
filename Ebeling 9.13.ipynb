{
 "cells": [
  {
   "cell_type": "code",
   "execution_count": 2,
   "metadata": {},
   "outputs": [
    {
     "name": "stdout",
     "output_type": "stream",
     "text": [
      "IPython console for SymPy 1.4 (Python 3.7.4-64-bit) (ground types: python)\n",
      "\n",
      "These commands were executed:\n",
      ">>> from __future__ import division\n",
      ">>> from sympy import *\n",
      ">>> x, y, z, t = symbols('x y z t')\n",
      ">>> k, m, n = symbols('k m n', integer=True)\n",
      ">>> f, g, h = symbols('f g h', cls=Function)\n",
      ">>> init_printing()\n",
      "\n",
      "Documentation can be found at https://docs.sympy.org/1.4/\n",
      "\n"
     ]
    }
   ],
   "source": [
    "#ebeling 9.13\n",
    "\n",
    "\n",
    "from sympy import *\n",
    "init_session()\n",
    "from sympy.stats import *\n",
    "import matplotlib.pyplot as plt\n",
    "import numpy as np\n",
    "\n",
    "F, a, b, R, mttf, l =symbols('F a b R mttf l')"
   ]
  },
  {
   "cell_type": "code",
   "execution_count": 3,
   "metadata": {},
   "outputs": [],
   "source": [
    "#dois comonentes redundantes com manutenção preventiva:\n",
    "#confiabilidade:\n",
    "l= symbols('l')\n",
    "Rc=2*exp(-l*t)-exp(-2*l*t)"
   ]
  },
  {
   "cell_type": "code",
   "execution_count": 4,
   "metadata": {},
   "outputs": [
    {
     "data": {
      "image/png": "[encoded data removed]",
      "text/latex": [
       "$\\displaystyle 2 e^{- l t} - e^{- 2 l t}$"
      ],
      "text/plain": [
       "   -l⋅t    -2⋅l⋅t\n",
       "2⋅ℯ     - ℯ      "
      ]
     },
     "execution_count": 4,
     "metadata": {},
     "output_type": "execute_result"
    }
   ],
   "source": [
    "Rc"
   ]
  },
  {
   "cell_type": "code",
   "execution_count": 14,
   "metadata": {},
   "outputs": [
    {
     "data": {
      "image/png": "[encoded data removed]",
      "text/latex": [
       "$\\displaystyle \\left(2 e^{- T l} - e^{- 2 T l}\\right)^{\\frac{t_{1}}{T}}$"
      ],
      "text/plain": [
       "                   t₁\n",
       "                   ──\n",
       "                   T \n",
       "⎛   -T⋅l    -2⋅T⋅l⎞  \n",
       "⎝2⋅ℯ     - ℯ      ⎠  "
      ]
     },
     "execution_count": 14,
     "metadata": {},
     "output_type": "execute_result"
    }
   ],
   "source": [
    "t1,T,n = symbols('t1, T, n')\n",
    "n=t1/T\n",
    "\n",
    "Rs=((Rc.subs({t:T}))**n)*Rc.subs({t:(t1-n*T)})\n",
    "Rs\n"
   ]
  },
  {
   "cell_type": "code",
   "execution_count": 17,
   "metadata": {},
   "outputs": [
    {
     "data": {
      "text/latex": [
       "$\\displaystyle \\frac{\\begin{cases} \\frac{3}{2 l} - \\frac{2 e^{- T l}}{l} + \\frac{e^{- 2 T l}}{2 l} & \\text{for}\\: l > -\\infty \\wedge l < \\infty \\wedge l \\neq 0 \\\\T & \\text{otherwise} \\end{cases}}{1 - \\left(2 e^{- T l} - e^{- 2 T l}\\right)^{\\frac{t_{1}}{T}}}$"
      ],
      "text/plain": [
       "⎧         -T⋅l    -2⋅T⋅l                            \n",
       "⎪ 3    2⋅ℯ       ℯ                                  \n",
       "⎪─── - ─────── + ───────  for l > -∞ ∧ l < ∞ ∧ l ≠ 0\n",
       "⎨2⋅l      l        2⋅l                              \n",
       "⎪                                                   \n",
       "⎪           T                     otherwise         \n",
       "⎩                                                   \n",
       "────────────────────────────────────────────────────\n",
       "                                    t₁              \n",
       "                                    ──              \n",
       "                                    T               \n",
       "                 ⎛   -T⋅l    -2⋅T⋅l⎞                \n",
       "             1 - ⎝2⋅ℯ     - ℯ      ⎠                "
      ]
     },
     "execution_count": 17,
     "metadata": {},
     "output_type": "execute_result"
    }
   ],
   "source": [
    "mttf=integrate(Rc,(t,0,T))/(1-Rs.subs({t:T}))\n",
    "expand(mttf)"
   ]
  },
  {
   "cell_type": "code",
   "execution_count": 18,
   "metadata": {},
   "outputs": [
    {
     "data": {
      "text/latex": [
       "$\\displaystyle \\begin{cases} - \\frac{\\left(3 e^{200000 l} - 4 e^{100000 l} + 1\\right) e^{- 200000 l}}{2 l \\left(\\left(\\left(2 e^{100000 l} - 1\\right) e^{- 200000 l}\\right)^{\\frac{t_{1}}{100000}} - 1\\right)} & \\text{for}\\: l > -\\infty \\wedge l < \\infty \\wedge l \\neq 0 \\\\- \\frac{100000}{\\left(\\left(2 e^{100000 l} - 1\\right) e^{- 200000 l}\\right)^{\\frac{t_{1}}{100000}} - 1} & \\text{otherwise} \\end{cases}$"
      ],
      "text/plain": [
       "⎧  ⎛   200000⋅l      100000⋅l    ⎞  -200000⋅l                              \n",
       "⎪ -⎝3⋅ℯ         - 4⋅ℯ         + 1⎠⋅ℯ                                       \n",
       "⎪──────────────────────────────────────────────  for l > -∞ ∧ l < ∞ ∧ l ≠ 0\n",
       "⎪    ⎛                                t₁      ⎞                            \n",
       "⎪    ⎜                              ──────    ⎟                            \n",
       "⎪    ⎜                              100000    ⎟                            \n",
       "⎪    ⎜⎛⎛   100000⋅l    ⎞  -200000⋅l⎞          ⎟                            \n",
       "⎪2⋅l⋅⎝⎝⎝2⋅ℯ         - 1⎠⋅ℯ         ⎠       - 1⎠                            \n",
       "⎨                                                                          \n",
       "⎪                   -100000                                                \n",
       "⎪   ────────────────────────────────────────             otherwise         \n",
       "⎪                                   t₁                                     \n",
       "⎪                                 ──────                                   \n",
       "⎪                                 100000                                   \n",
       "⎪   ⎛⎛   100000⋅l    ⎞  -200000⋅l⎞                                         \n",
       "⎪   ⎝⎝2⋅ℯ         - 1⎠⋅ℯ         ⎠       - 1                               \n",
       "⎩                                                                          "
      ]
     },
     "execution_count": 18,
     "metadata": {},
     "output_type": "execute_result"
    }
   ],
   "source": []
  },
  {
   "cell_type": "code",
   "execution_count": null,
   "metadata": {},
   "outputs": [],
   "source": []
  },
  {
   "cell_type": "code",
   "execution_count": null,
   "metadata": {},
   "outputs": [],
   "source": []
  }
 ],
 "metadata": {
  "kernelspec": {
   "display_name": "Python 3",
   "language": "python",
   "name": "python3"
  },
  "language_info": {
   "codemirror_mode": {
    "name": "ipython",
    "version": 3
   },
   "file_extension": ".py",
   "mimetype": "text/x-python",
   "name": "python",
   "nbconvert_exporter": "python",
   "pygments_lexer": "ipython3",
   "version": "3.7.4"
  }
 },
 "nbformat": 4,
 "nbformat_minor": 4
}
