{
 "cells": [
  {
   "cell_type": "code",
   "execution_count": 1,
   "metadata": {},
   "outputs": [
    {
     "name": "stdout",
     "output_type": "stream",
     "text": [
      "IPython console for SymPy 1.4 (Python 3.7.4-64-bit) (ground types: python)\n",
      "\n",
      "These commands were executed:\n",
      ">>> from __future__ import division\n",
      ">>> from sympy import *\n",
      ">>> x, y, z, t = symbols('x y z t')\n",
      ">>> k, m, n = symbols('k m n', integer=True)\n",
      ">>> f, g, h = symbols('f g h', cls=Function)\n",
      ">>> init_printing()\n",
      "\n",
      "Documentation can be found at https://docs.sympy.org/1.4/\n",
      "\n"
     ]
    }
   ],
   "source": [
    "#Modarres - Ex 4.15\n",
    "\n",
    "from sympy import *\n",
    "init_session()\n",
    "from sympy.stats import *\n",
    "import matplotlib.pyplot as plt\n",
    "import numpy as np\n",
    "\n",
    "\n",
    "F, a, b, R, mttf, l =symbols('F a b R mttf l')"
   ]
  },
  {
   "cell_type": "code",
   "execution_count": 17,
   "metadata": {},
   "outputs": [
    {
     "data": {
      "image/png": "[encoded data removed]",
      "text/latex": [
       "$\\displaystyle 0.9667$"
      ],
      "text/plain": [
       "0.9667"
      ]
     },
     "execution_count": 17,
     "metadata": {},
     "output_type": "execute_result"
    }
   ],
   "source": [
    "R=0.9\n",
    "F=0.1\n",
    "\n",
    "#a) minimal path sets\n",
    "\n",
    "#p1 = 1,6,7\n",
    "#p2 = 1,5,8\n",
    "#p3 = 2,4,8\n",
    "#p4 = 1,3,4,8\n",
    "#p5 = 2,3,6,7\n",
    "#p6 = 2,4,5,6,7\n",
    "#p7- 2,3,5,8\n",
    "Fp1=1-R**3\n",
    "Fp2=1-R**3\n",
    "Fp3=1-R**3\n",
    "Fp4=1-R**4\n",
    "Fp5=1-R**4\n",
    "Fp6=1-R**5\n",
    "Fp7=1-R**4\n",
    "\n",
    "\n",
    "\n",
    "#b) minimal cut sets:\n",
    "\n",
    "#c1 = 1,2\n",
    "#c2 = 7,8\n",
    "#c3 = 6,8\n",
    "#c4 = 4,5,6\n",
    "#c5 = 4,5,7\n",
    "#c6 = 1,3,4\n",
    "#c7 = 1,3,5,8\n",
    "#c8 = 2,3,5,6\n",
    "#c9 = 2,3,5,7\n",
    "Fc1=F**2\n",
    "Fc2=F**2\n",
    "Fc3=F**2\n",
    "Fc4=F**3\n",
    "Fc5=F**3\n",
    "Fc6=F**3\n",
    "Fc7=F**4\n",
    "Fc8=F**4\n",
    "Fc9=F**4\n",
    "#c)confiabilidade do sistema se a confiabilidade dos componentes for 0.9\n",
    "\n",
    "\n",
    "\n",
    "\n",
    "\n",
    "Rsys_cut=1-Fc1-Fc2-Fc3-Fc4-Fc5-Fc6-Fc7-Fc8-Fc9\n",
    "Rsys_cut"
   ]
  },
  {
   "cell_type": "code",
   "execution_count": 18,
   "metadata": {},
   "outputs": [
    {
     "data": {
      "image/png": "[encoded data removed]",
      "text/latex": [
       "$\\displaystyle 0.9996685111602779$"
      ],
      "text/plain": [
       "0.9996685111602779"
      ]
     },
     "execution_count": 18,
     "metadata": {},
     "output_type": "execute_result"
    }
   ],
   "source": [
    "Rsys_path=1-Fp1*Fp2*Fp3*Fp4*Fp5*Fp6*Fp7\n",
    "Rsys_path"
   ]
  },
  {
   "cell_type": "code",
   "execution_count": null,
   "metadata": {},
   "outputs": [],
   "source": []
  },
  {
   "cell_type": "code",
   "execution_count": null,
   "metadata": {},
   "outputs": [],
   "source": []
  }
 ],
 "metadata": {
  "kernelspec": {
   "display_name": "Python 3",
   "language": "python",
   "name": "python3"
  },
  "language_info": {
   "codemirror_mode": {
    "name": "ipython",
    "version": 3
   },
   "file_extension": ".py",
   "mimetype": "text/x-python",
   "name": "python",
   "nbconvert_exporter": "python",
   "pygments_lexer": "ipython3",
   "version": "3.7.4"
  }
 },
 "nbformat": 4,
 "nbformat_minor": 2
}
