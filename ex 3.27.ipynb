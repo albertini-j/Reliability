{
 "cells": [
  {
   "cell_type": "code",
   "execution_count": 1,
   "metadata": {
    "scrolled": true
   },
   "outputs": [
    {
     "name": "stdout",
     "output_type": "stream",
     "text": [
      "IPython console for SymPy 1.4 (Python 3.7.4-64-bit) (ground types: python)\n",
      "\n",
      "These commands were executed:\n",
      ">>> from __future__ import division\n",
      ">>> from sympy import *\n",
      ">>> x, y, z, t = symbols('x y z t')\n",
      ">>> k, m, n = symbols('k m n', integer=True)\n",
      ">>> f, g, h = symbols('f g h', cls=Function)\n",
      ">>> init_printing()\n",
      "\n",
      "Documentation can be found at https://docs.sympy.org/1.4/\n",
      "\n"
     ]
    }
   ],
   "source": [
    "#exemplo apostila página 228\n",
    "from sympy import *\n",
    "init_session()\n",
    "from sympy.stats import *\n",
    "import matplotlib.pyplot as plt\n",
    "import numpy as np\n",
    "\n",
    "\n",
    "F, a, b, R, mttf, l , p,sigma_p, mi_p, q =symbols('F a b R mttf l p sigma_p mi_p q')\n",
    "\n",
    "u=0.001\n",
    "s=0.0005\n",
    "t=1500\n",
    "PrEO = 10*(1-exp(-l*t))*(exp(-l*t))**9 #Pr(E | Theta)"
   ]
  },
  {
   "cell_type": "code",
   "execution_count": 2,
   "metadata": {
    "scrolled": false
   },
   "outputs": [
    {
     "name": "stdout",
     "output_type": "stream",
     "text": [
      "⎛         -1500⋅l⎞  -13500⋅l\n",
      "⎝10 - 10⋅ℯ       ⎠⋅ℯ        \n"
     ]
    }
   ],
   "source": [
    "pprint(PrEO)\n",
    "p_i = np.linspace(0.000005,0.001,10000)"
   ]
  },
  {
   "cell_type": "code",
   "execution_count": 3,
   "metadata": {},
   "outputs": [],
   "source": [
    "FO=Normal('FO', u,s)"
   ]
  },
  {
   "cell_type": "code",
   "execution_count": 4,
   "metadata": {},
   "outputs": [],
   "source": [
    "N(density(FO)(0.001))\n",
    "PrxF=PrEO*density(FO)(l)"
   ]
  },
  {
   "cell_type": "code",
   "execution_count": 5,
   "metadata": {},
   "outputs": [
    {
     "name": "stdout",
     "output_type": "stream",
     "text": [
      "denominador =0.0139635934861335\n",
      "ou 71.6148032376512\n"
     ]
    }
   ],
   "source": [
    "\n",
    "\n",
    "numerical_integration=0\n",
    "guardando=[]\n",
    "temp_antigo=N(PrxF.subs(l,p_i[0]))                                    \n",
    "guardando.append(temp_antigo)\n",
    "for i in range(1,len(p_i)):\n",
    "    temp= N(PrxF.subs(l,p_i[i]))\n",
    "    guardando.append(temp)\n",
    "    numerical_integration = numerical_integration+(temp_antigo+temp)*(p_i[i]-p_i[i-1])/2\n",
    "    temp_antigo=temp\n",
    "print('denominador ='+str(numerical_integration))\n",
    "print('ou '+str(1/numerical_integration))"
   ]
  },
  {
   "cell_type": "code",
   "execution_count": 6,
   "metadata": {},
   "outputs": [],
   "source": [
    "numerador=np.array(guardando)"
   ]
  },
  {
   "cell_type": "code",
   "execution_count": 7,
   "metadata": {},
   "outputs": [],
   "source": [
    "pontos = np.divide(numerador,numerical_integration)"
   ]
  },
  {
   "cell_type": "code",
   "execution_count": 8,
   "metadata": {},
   "outputs": [
    {
     "data": {
      "text/plain": [
       "[<matplotlib.lines.Line2D at 0x22e4bc96d08>]"
      ]
     },
     "execution_count": 8,
     "metadata": {},
     "output_type": "execute_result"
    },
    {
     "data": {
      "image/png": "[encoded data removed]",
      "text/plain": [
       "<Figure size 432x288 with 1 Axes>"
      ]
     },
     "metadata": {
      "needs_background": "light"
     },
     "output_type": "display_data"
    }
   ],
   "source": [
    "plt.plot(p_i,pontos)"
   ]
  },
  {
   "cell_type": "code",
   "execution_count": 9,
   "metadata": {},
   "outputs": [
    {
     "name": "stdout",
     "output_type": "stream",
     "text": [
      "integral numérica =1.00000000000000\n"
     ]
    }
   ],
   "source": [
    "numerical_integration2=0\n",
    "guardando2=[]\n",
    "temp_antigo=pontos[0]                                    \n",
    "for i in range(1,len(p_i)):\n",
    "    temp= pontos[i] \n",
    "    numerical_integration2 = numerical_integration2+(temp_antigo+temp)*(p_i[i]-p_i[i-1])/2\n",
    "    guardando2.append((temp_antigo+temp)*(p_i[i]-p_i[i-1])/2)\n",
    "    temp_antigo=temp\n",
    "print('integral numérica ='+str(numerical_integration2))\n",
    "    "
   ]
  },
  {
   "cell_type": "code",
   "execution_count": 10,
   "metadata": {},
   "outputs": [],
   "source": [
    "guardando2.append(0)\n",
    "cumsum = np.cumsum(guardando2)"
   ]
  },
  {
   "cell_type": "code",
   "execution_count": 11,
   "metadata": {},
   "outputs": [
    {
     "data": {
      "image/png": "[encoded data removed]",
      "text/latex": [
       "$\\displaystyle 3.326082608260826e-05$"
      ],
      "text/plain": [
       "3.326082608260826e-05"
      ]
     },
     "execution_count": 11,
     "metadata": {},
     "output_type": "execute_result"
    }
   ],
   "source": [
    "P05 = (np.abs(cumsum - 0.05)).argmin()\n",
    "p_i[P05]"
   ]
  },
  {
   "cell_type": "code",
   "execution_count": 12,
   "metadata": {},
   "outputs": [
    {
     "data": {
      "image/png": "[encoded data removed]",
      "text/latex": [
       "$\\displaystyle 0.00015207570757075708$"
      ],
      "text/plain": [
       "0.00015207570757075708"
      ]
     },
     "execution_count": 12,
     "metadata": {},
     "output_type": "execute_result"
    }
   ],
   "source": [
    "P50=  (np.abs(cumsum - 0.5)).argmin()\n",
    "p_i[P50]"
   ]
  },
  {
   "cell_type": "code",
   "execution_count": 13,
   "metadata": {},
   "outputs": [
    {
     "data": {
      "image/png": "[encoded data removed]",
      "text/latex": [
       "$\\displaystyle 0.0004116971697169717$"
      ],
      "text/plain": [
       "0.0004116971697169717"
      ]
     },
     "execution_count": 13,
     "metadata": {},
     "output_type": "execute_result"
    }
   ],
   "source": [
    "P95= (np.abs(cumsum - 0.95)).argmin()\n",
    "p_i[P95]"
   ]
  },
  {
   "cell_type": "code",
   "execution_count": 14,
   "metadata": {},
   "outputs": [
    {
     "data": {
      "text/plain": [
       "[<matplotlib.lines.Line2D at 0x22e4decae08>]"
      ]
     },
     "execution_count": 14,
     "metadata": {},
     "output_type": "execute_result"
    },
    {
     "data": {
      "image/png": "[encoded data removed]",
      "text/plain": [
       "<Figure size 432x288 with 1 Axes>"
      ]
     },
     "metadata": {
      "needs_background": "light"
     },
     "output_type": "display_data"
    }
   ],
   "source": [
    "plt.plot(p_i,cumsum)\n"
   ]
  },
  {
   "cell_type": "code",
   "execution_count": 15,
   "metadata": {},
   "outputs": [
    {
     "data": {
      "image/png": "[encoded data removed]",
      "text/latex": [
       "$\\displaystyle 0.608577119292371$"
      ],
      "text/plain": [
       "0.608577119292371"
      ]
     },
     "execution_count": 15,
     "metadata": {},
     "output_type": "execute_result"
    }
   ],
   "source": [
    "pontos[9999]"
   ]
  },
  {
   "cell_type": "code",
   "execution_count": null,
   "metadata": {},
   "outputs": [],
   "source": []
  }
 ],
 "metadata": {
  "kernelspec": {
   "display_name": "Python 3",
   "language": "python",
   "name": "python3"
  },
  "language_info": {
   "codemirror_mode": {
    "name": "ipython",
    "version": 3
   },
   "file_extension": ".py",
   "mimetype": "text/x-python",
   "name": "python",
   "nbconvert_exporter": "python",
   "pygments_lexer": "ipython3",
   "version": "3.7.4"
  }
 },
 "nbformat": 4,
 "nbformat_minor": 2
}
