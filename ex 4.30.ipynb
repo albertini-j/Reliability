{
 "cells": [
  {
   "cell_type": "code",
   "execution_count": 1,
   "metadata": {},
   "outputs": [
    {
     "name": "stdout",
     "output_type": "stream",
     "text": [
      "IPython console for SymPy 1.4 (Python 3.7.4-64-bit) (ground types: python)\n",
      "\n",
      "These commands were executed:\n",
      ">>> from __future__ import division\n",
      ">>> from sympy import *\n",
      ">>> x, y, z, t = symbols('x y z t')\n",
      ">>> k, m, n = symbols('k m n', integer=True)\n",
      ">>> f, g, h = symbols('f g h', cls=Function)\n",
      ">>> init_printing()\n",
      "\n",
      "Documentation can be found at https://docs.sympy.org/1.4/\n",
      "\n"
     ]
    }
   ],
   "source": [
    "#Modarres - Ex 4.30\n",
    "\n",
    "from sympy import *\n",
    "init_session()\n",
    "from sympy.stats import *\n",
    "import matplotlib.pyplot as plt\n",
    "import numpy as np\n",
    "\n",
    "\n",
    "F, a, b, R, mttf, l =symbols('F a b R mttf l')"
   ]
  },
  {
   "cell_type": "code",
   "execution_count": 4,
   "metadata": {},
   "outputs": [
    {
     "data": {
      "image/png": "[encoded data removed]",
      "text/latex": [
       "$\\displaystyle \\int\\limits_{0}^{t} la \\left(\\frac{2 lh \\left(1 - e^{\\left(lf - 2 lh\\right) \\left(t - t_{1}\\right)}\\right) e^{- lf \\left(t - t_{1}\\right)}}{- lf + 2 lh} + e^{- 2 lh \\left(t - t_{1}\\right)}\\right) e^{- la t}\\, dt_{1} + e^{- la t}$"
      ],
      "text/plain": [
       "t                                                                             \n",
       "⌠                                                                             \n",
       "⎮    ⎛     ⎛     (lf - 2⋅lh)⋅(t - t₁)⎞  -lf⋅(t - t₁)                  ⎞       \n",
       "⎮    ⎜2⋅lh⋅⎝1 - ℯ                    ⎠⋅ℯ                -2⋅lh⋅(t - t₁)⎟  -la⋅t\n",
       "⎮ la⋅⎜────────────────────────────────────────────── + ℯ              ⎟⋅ℯ     \n",
       "⎮    ⎝                  -lf + 2⋅lh                                    ⎠       \n",
       "⌡                                                                             \n",
       "0                                                                             \n",
       "\n",
       "               \n",
       "               \n",
       "               \n",
       "          -la⋅t\n",
       " d(t₁) + ℯ     \n",
       "               \n",
       "               \n",
       "               "
      ]
     },
     "execution_count": 4,
     "metadata": {},
     "output_type": "execute_result"
    }
   ],
   "source": [
    "la, lh, lf, t, t1, t2= symbols('la lh lf t t1 t2')\n",
    "#t = tempo total de missão\n",
    "#t1 = tempo onde A falha\n",
    "#t2 = tempo onde um dos componentes compartilhando carga falham\n",
    "Rx=exp(-2*lh*(t-t1))+2*lh*exp(-lf*(t-t1))*(1-exp(-(2*lh-lf)*(t-t1)))/(2*lh-lf)\n",
    "Ra=exp(-la*t)\n",
    "fa=la*exp(-la*t)\n",
    "Rsys=Ra+Integral((fa)*Rx,(t1,0,t))\n",
    "Rsys"
   ]
  },
  {
   "cell_type": "code",
   "execution_count": null,
   "metadata": {},
   "outputs": [],
   "source": [
    "H = Rsys.doit()\n",
    "H"
   ]
  },
  {
   "cell_type": "code",
   "execution_count": null,
   "metadata": {},
   "outputs": [],
   "source": []
  }
 ],
 "metadata": {
  "kernelspec": {
   "display_name": "Python 3",
   "language": "python",
   "name": "python3"
  },
  "language_info": {
   "codemirror_mode": {
    "name": "ipython",
    "version": 3
   },
   "file_extension": ".py",
   "mimetype": "text/x-python",
   "name": "python",
   "nbconvert_exporter": "python",
   "pygments_lexer": "ipython3",
   "version": "3.7.4"
  }
 },
 "nbformat": 4,
 "nbformat_minor": 2
}
