{
 "cells": [
  {
   "cell_type": "code",
   "execution_count": 1,
   "metadata": {},
   "outputs": [
    {
     "name": "stdout",
     "output_type": "stream",
     "text": [
      "IPython console for SymPy 1.4 (Python 3.7.4-64-bit) (ground types: python)\n",
      "\n",
      "These commands were executed:\n",
      ">>> from __future__ import division\n",
      ">>> from sympy import *\n",
      ">>> x, y, z, t = symbols('x y z t')\n",
      ">>> k, m, n = symbols('k m n', integer=True)\n",
      ">>> f, g, h = symbols('f g h', cls=Function)\n",
      ">>> init_printing()\n",
      "\n",
      "Documentation can be found at https://docs.sympy.org/1.4/\n",
      "\n"
     ]
    }
   ],
   "source": [
    " #Modarres - Ex 4.31\n",
    "    \n",
    "from sympy import *\n",
    "init_session()\n",
    "from sympy.stats import *\n",
    "import matplotlib.pyplot as plt\n",
    "import numpy as np\n",
    "\n",
    "\n",
    "F, a, b, R, mttf, l =symbols('F a b R mttf l')\n",
    "\n",
    "t1 = symbols('t1')\n",
    "def paralelo(*confiabilidades):\n",
    "    temporario=np.array(confiabilidades)\n",
    "    temporario=np.subtract(1,temporario)\n",
    "    temporario=np.prod(temporario)\n",
    "    return 1-temporario\n",
    "\n",
    "def serie(*confiabilidades):\n",
    "    temporario = np.array(confiabilidades)\n",
    "    return np.prod(temporario)\n",
    "\n",
    "def loadshare(RhL,RfL,fhL): #informar todos em função de t\n",
    "    return RhL**2+2*integrate(fhL.subs({t:t1})*RhL.subs({t:t1})*RfL.subs({t:(t-t1)}),(t1,0,t))\n",
    "\n",
    "def perfect_ss(R1S,R2S,f1S): #informar todos em função de t\n",
    "    return R1S+integrate(f1S.subs({t:t1})*R2S.subs({t:(t-t1)}),(t1,0,t))"
   ]
  },
  {
   "cell_type": "code",
   "execution_count": 3,
   "metadata": {},
   "outputs": [],
   "source": [
    "l=0.005 #1/month\n",
    "\n",
    "Ra=Rb=Rc=Rd=Re=Rf=exp(-l*t)"
   ]
  },
  {
   "cell_type": "code",
   "execution_count": 5,
   "metadata": {},
   "outputs": [
    {
     "data": {
      "image/png": "[encoded data removed]",
      "text/latex": [
       "$\\displaystyle \\left(1 - \\left(1 - e^{- 0.005 t}\\right)^{3}\\right) e^{- 0.01 t} + \\left(1 - e^{- 0.005 t}\\right) \\left(- \\left(1 - e^{- 0.01 t}\\right) \\left(1 - e^{- 0.005 t}\\right) + 1\\right) e^{- 0.005 t}$"
      ],
      "text/plain": [
       "⎛                   3⎞                                                        \n",
       "⎜    ⎛     -0.005⋅t⎞ ⎟  -0.01⋅t   ⎛     -0.005⋅t⎞ ⎛  ⎛     -0.01⋅t⎞ ⎛     -0.0\n",
       "⎝1 - ⎝1 - ℯ        ⎠ ⎠⋅ℯ        + ⎝1 - ℯ        ⎠⋅⎝- ⎝1 - ℯ       ⎠⋅⎝1 - ℯ    \n",
       "\n",
       "                    \n",
       "05⋅t⎞    ⎞  -0.005⋅t\n",
       "    ⎠ + 1⎠⋅ℯ        "
      ]
     },
     "execution_count": 5,
     "metadata": {},
     "output_type": "execute_result"
    }
   ],
   "source": [
    "#calculando prob sem Ra\n",
    "R1=serie(Rb,Re)\n",
    "R2=paralelo(Rc,R1)\n",
    "Rs1=serie(R2,Rf,(1-Ra))\n",
    "          \n",
    "#calculando prob com Ra\n",
    "R3=paralelo(Rd,Rc,Re)\n",
    "Rs2=serie(R3,Rf,Ra)\n",
    "          \n",
    "Rs=Rs1+Rs2\n",
    "Rs\n",
    "\n"
   ]
  },
  {
   "cell_type": "code",
   "execution_count": 6,
   "metadata": {},
   "outputs": [
    {
     "data": {
      "image/png": "[encoded data removed]",
      "text/latex": [
       "$\\displaystyle 130.0$"
      ],
      "text/plain": [
       "130.000000000000"
      ]
     },
     "execution_count": 6,
     "metadata": {},
     "output_type": "execute_result"
    }
   ],
   "source": [
    "integrate(Rs,(t,0,oo))"
   ]
  },
  {
   "cell_type": "code",
   "execution_count": null,
   "metadata": {},
   "outputs": [],
   "source": []
  }
 ],
 "metadata": {
  "kernelspec": {
   "display_name": "Python 3",
   "language": "python",
   "name": "python3"
  },
  "language_info": {
   "codemirror_mode": {
    "name": "ipython",
    "version": 3
   },
   "file_extension": ".py",
   "mimetype": "text/x-python",
   "name": "python",
   "nbconvert_exporter": "python",
   "pygments_lexer": "ipython3",
   "version": "3.7.4"
  }
 },
 "nbformat": 4,
 "nbformat_minor": 2
}
