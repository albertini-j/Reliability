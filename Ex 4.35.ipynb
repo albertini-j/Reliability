{
 "cells": [
  {
   "cell_type": "code",
   "execution_count": 1,
   "metadata": {},
   "outputs": [
    {
     "name": "stdout",
     "output_type": "stream",
     "text": [
      "IPython console for SymPy 1.4 (Python 3.7.4-64-bit) (ground types: python)\n",
      "\n",
      "These commands were executed:\n",
      ">>> from __future__ import division\n",
      ">>> from sympy import *\n",
      ">>> x, y, z, t = symbols('x y z t')\n",
      ">>> k, m, n = symbols('k m n', integer=True)\n",
      ">>> f, g, h = symbols('f g h', cls=Function)\n",
      ">>> init_printing()\n",
      "\n",
      "Documentation can be found at https://docs.sympy.org/1.4/\n",
      "\n"
     ]
    }
   ],
   "source": [
    "#Modarres Ex 4.35\n",
    "from sympy import *\n",
    "init_session()\n",
    "from sympy.stats import *\n",
    "import matplotlib.pyplot as plt\n",
    "import numpy as np"
   ]
  },
  {
   "cell_type": "code",
   "execution_count": 2,
   "metadata": {},
   "outputs": [],
   "source": [
    "l3=10**-4\n",
    "l2=10**-3\n",
    "l1=10**-2\n",
    "t1, t2 = symbols('t1 t2')\n",
    "R3=exp(-l3*t)\n",
    "R2=exp(-l2*t)\n",
    "R1=exp(-l1*t)\n",
    "f3=l3*exp(-l3*t)\n",
    "f2=l2*exp(-l2*t)\n",
    "f1=l1*exp(-l1*t)\n"
   ]
  },
  {
   "cell_type": "code",
   "execution_count": 3,
   "metadata": {},
   "outputs": [],
   "source": [
    "Rs= R3**3 +3 * Integral(  f2.subs({t:t1}) * 2 * (R3.subs({t:t1})**2) *  ( R2.subs({t:(t-t1)})**2 + 2* Integral(f3.subs({t:t2})*R2.subs({t:t2})*R3.subs({t:(t-t2)}),(t2,0,t))),(t1,0,t))"
   ]
  },
  {
   "cell_type": "code",
   "execution_count": 4,
   "metadata": {},
   "outputs": [
    {
     "data": {
      "image/png": "[encoded data removed]",
      "text/latex": [
       "$\\displaystyle 3 \\int\\limits_{0}^{t} 0.002 \\left(e^{- 0.002 t + 0.002 t_{1}} + 2 \\int\\limits_{0}^{t} 0.0001 e^{- 0.0011 t_{2}} e^{- 0.0001 t + 0.0001 t_{2}}\\, dt_{2}\\right) e^{- 0.0012 t_{1}}\\, dt_{1} + e^{- 0.0003 t}$"
      ],
      "text/plain": [
       "  t                                                                           \n",
       "  ⌠                                                                           \n",
       "  ⎮       ⎛                         t                                         \n",
       "  ⎮       ⎜                         ⌠                                         \n",
       "  ⎮       ⎜ -0.002⋅t + 0.002⋅t₁     ⎮         -0.0011⋅t₂  -0.0001⋅t + 0.0001⋅t\n",
       "3⋅⎮ 0.002⋅⎜ℯ                    + 2⋅⎮ 0.0001⋅ℯ          ⋅ℯ                    \n",
       "  ⎮       ⎜                         ⌡                                         \n",
       "  ⎮       ⎝                         0                                         \n",
       "  ⌡                                                                           \n",
       "  0                                                                           \n",
       "\n",
       "                                       \n",
       "                                       \n",
       "       ⎞                               \n",
       "       ⎟                               \n",
       "₂      ⎟  -0.0012⋅t₁          -0.0003⋅t\n",
       "  d(t₂)⎟⋅ℯ           d(t₁) + ℯ         \n",
       "       ⎟                               \n",
       "       ⎠                               \n",
       "                                       \n",
       "                                       "
      ]
     },
     "execution_count": 4,
     "metadata": {},
     "output_type": "execute_result"
    }
   ],
   "source": [
    "Rs"
   ]
  },
  {
   "cell_type": "code",
   "execution_count": 5,
   "metadata": {
    "scrolled": true
   },
   "outputs": [
    {
     "data": {
      "image/png": "[encoded data removed]",
      "text/latex": [
       "$\\displaystyle e^{- 0.01 t + 0.01 t_{2}}$"
      ],
      "text/plain": [
       " -0.01⋅t + 0.01⋅t₂\n",
       "ℯ                 "
      ]
     },
     "execution_count": 5,
     "metadata": {},
     "output_type": "execute_result"
    }
   ],
   "source": [
    "Req1=R1.subs({t:(t-t2)})\n",
    "Req12"
   ]
  },
  {
   "cell_type": "code",
   "execution_count": 13,
   "metadata": {
    "scrolled": true
   },
   "outputs": [
    {
     "data": {
      "image/png": "[encoded data removed]",
      "text/latex": [
       "$\\displaystyle 2 \\int\\limits_{0}^{t} 0.001 e^{- 0.002 t_{2}} e^{- 0.01 t + 0.01 t_{2}}\\, dt_{2} + e^{- 0.002 t}$"
      ],
      "text/plain": [
       "  t                                                      \n",
       "  ⌠                                                      \n",
       "  ⎮        -0.002⋅t₂  -0.01⋅t + 0.01⋅t₂          -0.002⋅t\n",
       "2⋅⎮ 0.001⋅ℯ         ⋅ℯ                  d(t₂) + ℯ        \n",
       "  ⌡                                                      \n",
       "  0                                                      "
      ]
     },
     "execution_count": 13,
     "metadata": {},
     "output_type": "execute_result"
    }
   ],
   "source": [
    "Req2_simb=(R2**2).subs({t:(t)})+2*Integral(f2.subs({t:t2})*R2.subs({t:t2})*Req1,(t2,0,t))\n",
    "Req2_simb"
   ]
  },
  {
   "cell_type": "code",
   "execution_count": 14,
   "metadata": {},
   "outputs": [
    {
     "data": {
      "image/png": "[encoded data removed]",
      "text/latex": [
       "$\\displaystyle - 0.25 e^{- 0.01 t} + 1.25 e^{- 0.002 t}$"
      ],
      "text/plain": [
       "        -0.01⋅t         -0.002⋅t\n",
       "- 0.25⋅ℯ        + 1.25⋅ℯ        "
      ]
     },
     "execution_count": 14,
     "metadata": {},
     "output_type": "execute_result"
    }
   ],
   "source": [
    "Req2=2*(-0.125*exp(-0.01*t) + 0.125*exp(-0.002*t))+exp(-0.002*t)\n",
    "Req2"
   ]
  },
  {
   "cell_type": "code",
   "execution_count": 21,
   "metadata": {},
   "outputs": [
    {
     "data": {
      "image/png": "[encoded data removed]",
      "text/latex": [
       "$\\displaystyle 3 \\int\\limits_{0}^{t} 0.0001 \\left(- 0.25 e^{- 0.01 t + 0.01 t_{1}} + 1.25 e^{- 0.002 t + 0.002 t_{1}}\\right) e^{- 0.0003 t_{1}}\\, dt_{1} + e^{- 0.0003 t}$"
      ],
      "text/plain": [
       "  t                                                                           \n",
       "  ⌠                                                                           \n",
       "  ⎮        ⎛        -0.01⋅t + 0.01⋅t₁         -0.002⋅t + 0.002⋅t₁⎞  -0.0003⋅t₁\n",
       "3⋅⎮ 0.0001⋅⎝- 0.25⋅ℯ                  + 1.25⋅ℯ                   ⎠⋅ℯ          \n",
       "  ⌡                                                                           \n",
       "  0                                                                           \n",
       "\n",
       "                   \n",
       "                   \n",
       "          -0.0003⋅t\n",
       " d(t₁) + ℯ         \n",
       "                   \n",
       "                   "
      ]
     },
     "execution_count": 21,
     "metadata": {},
     "output_type": "execute_result"
    }
   ],
   "source": [
    "Req3_simb=R3**3+3*Integral(f3.subs({t:t1})*R3.subs({t:t1})**2*Req2.subs({t:(t-t1)}),(t1,0,t))\n",
    "Req3_simb"
   ]
  },
  {
   "cell_type": "code",
   "execution_count": 27,
   "metadata": {},
   "outputs": [
    {
     "data": {
      "image/png": "[encoded data removed]",
      "text/latex": [
       "$\\displaystyle 0.00773196 e^{- 0.01 t} - 0.2205882 e^{- 0.002 t} + e^{- 0.0003 t} + 0.2128563 e^{- 0.0003 t}$"
      ],
      "text/plain": [
       "            -0.01⋅t              -0.002⋅t    -0.0003⋅t              -0.0003⋅t\n",
       "0.00773196⋅ℯ        - 0.2205882⋅ℯ         + ℯ          + 0.2128563⋅ℯ         "
      ]
     },
     "execution_count": 27,
     "metadata": {},
     "output_type": "execute_result"
    }
   ],
   "source": [
    "Req3 = 0.0001*3* (25.7732*exp(-0.01*t) - 735.294*exp(-0.002*t) + 709.521*exp(-0.0003*t)) + R3**3\n",
    "Req3"
   ]
  },
  {
   "cell_type": "code",
   "execution_count": 28,
   "metadata": {},
   "outputs": [
    {
     "data": {
      "image/png": "[encoded data removed]",
      "text/latex": [
       "$\\displaystyle 0.0603845590738283$"
      ],
      "text/plain": [
       "0.0603845590738283"
      ]
     },
     "execution_count": 28,
     "metadata": {},
     "output_type": "execute_result"
    }
   ],
   "source": [
    "Req3.subs({t:10000})"
   ]
  },
  {
   "cell_type": "code",
   "execution_count": 29,
   "metadata": {},
   "outputs": [
    {
     "data": {
      "image/png": "[encoded data removed]",
      "text/latex": [
       "$\\displaystyle 0.049787068367864$"
      ],
      "text/plain": [
       "0.0497870683678640"
      ]
     },
     "execution_count": 29,
     "metadata": {},
     "output_type": "execute_result"
    }
   ],
   "source": [
    "R3.subs({t:10000})**3"
   ]
  },
  {
   "cell_type": "code",
   "execution_count": null,
   "metadata": {},
   "outputs": [],
   "source": []
  },
  {
   "cell_type": "code",
   "execution_count": null,
   "metadata": {},
   "outputs": [],
   "source": []
  }
 ],
 "metadata": {
  "kernelspec": {
   "display_name": "Python 3",
   "language": "python",
   "name": "python3"
  },
  "language_info": {
   "codemirror_mode": {
    "name": "ipython",
    "version": 3
   },
   "file_extension": ".py",
   "mimetype": "text/x-python",
   "name": "python",
   "nbconvert_exporter": "python",
   "pygments_lexer": "ipython3",
   "version": "3.7.4"
  }
 },
 "nbformat": 4,
 "nbformat_minor": 2
}
