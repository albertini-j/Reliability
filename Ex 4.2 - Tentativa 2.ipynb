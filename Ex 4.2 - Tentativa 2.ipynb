{
 "cells": [
  {
   "cell_type": "code",
   "execution_count": 1,
   "metadata": {},
   "outputs": [
    {
     "name": "stdout",
     "output_type": "stream",
     "text": [
      "IPython console for SymPy 1.4 (Python 3.7.4-64-bit) (ground types: python)\n",
      "\n",
      "These commands were executed:\n",
      ">>> from __future__ import division\n",
      ">>> from sympy import *\n",
      ">>> x, y, z, t = symbols('x y z t')\n",
      ">>> k, m, n = symbols('k m n', integer=True)\n",
      ">>> f, g, h = symbols('f g h', cls=Function)\n",
      ">>> init_printing()\n",
      "\n",
      "Documentation can be found at https://docs.sympy.org/1.4/\n",
      "\n"
     ]
    }
   ],
   "source": [
    "#Modarres - Ex 4.2\n",
    "\n",
    "from sympy import *\n",
    "init_session()\n",
    "from sympy.stats import *\n",
    "import matplotlib.pyplot as plt\n",
    "import numpy as np\n",
    "\n",
    "\n",
    "F, a, b, R, mttf, l =symbols('F a b R mttf l')"
   ]
  },
  {
   "cell_type": "code",
   "execution_count": 2,
   "metadata": {},
   "outputs": [],
   "source": [
    "l=1*10**-4\n",
    "R=symbols('R')"
   ]
  },
  {
   "cell_type": "code",
   "execution_count": 14,
   "metadata": {},
   "outputs": [
    {
     "data": {
      "image/png": "[encoded data removed]",
      "text/latex": [
       "$\\displaystyle 0.998225513614407$"
      ],
      "text/plain": [
       "0.998225513614407"
      ]
     },
     "execution_count": 14,
     "metadata": {},
     "output_type": "execute_result"
    }
   ],
   "source": [
    "R=exp(-l*t)\n",
    "#Da questão 4.1, o limite inferior(considerando a não ocorrência de nenhum cut-set e considerando que os cuts sets são independentes) da confiabilidade o bloco complexo é:\n",
    "Req=-R**9+9*R**8-33*R**7+62*R**6-60*R**5+24*R**4\n",
    "#Da questã 4.1, o limite superior(considerando a ocorrência de algum path-set e considerando que os pathsets são independentes)\n",
    "Req_max=R**7-2*R**5-R**4+R**3+2*R**2\n",
    "\n",
    "#a) minimal path-sets:\n",
    "#p1 = x1, xeq\n",
    "#p2 = x2\n",
    "#p3 = x1, x3\n",
    "\n",
    "#b) minimal cut-sets:\n",
    "\n",
    "#c1 = x1,x2\n",
    "#c3 = x2, x3, xeq\n",
    "\n",
    "#c) Reliability 1000h:\n",
    "#vou fazer pelos path-sets já que a próximo item pede pelos cut-sets:\n",
    "\n",
    "p1 = R*Req_max\n",
    "p2 = R\n",
    "p3 = R**2\n",
    "\n",
    "np1 = 1-p1\n",
    "np2 = 1-p2\n",
    "np3 = 1-p3\n",
    "\n",
    "\n",
    "Rsis_max= 1 - np1*np2*np3\n",
    "\n",
    "expand(Rsis_max.subs({t:1000}))\n",
    "    "
   ]
  },
  {
   "cell_type": "code",
   "execution_count": 10,
   "metadata": {
    "scrolled": true
   },
   "outputs": [
    {
     "data": {
      "image/png": "[encoded data removed]",
      "text/latex": [
       "$\\displaystyle 0.990694957921722$"
      ],
      "text/plain": [
       "0.990694957921722"
      ]
     },
     "execution_count": 10,
     "metadata": {},
     "output_type": "execute_result"
    }
   ],
   "source": [
    "#d)probability of c) using cut-sets\n",
    "\n",
    "Rc1=1-(1-R)**2\n",
    "\n",
    "Rc2=1-(1-R)**2*(1-Req)\n",
    "\n",
    "Rsis_min=Rc1*Rc2\n",
    "Rsis_min.subs({t:1000})"
   ]
  },
  {
   "cell_type": "code",
   "execution_count": 5,
   "metadata": {},
   "outputs": [
    {
     "data": {
      "image/png": "[encoded data removed]",
      "text/latex": [
       "$\\displaystyle - \\left(1 - \\left(1 - e^{- 0.0001 t}\\right)^{2}\\right) \\left(- \\left(1 - e^{- 0.0001 t}\\right)^{2} \\left(1 + e^{- 0.0009 t} - 9 e^{- 0.0008 t} + 33 e^{- 0.0007 t} - 62 e^{- 0.0006 t} + 60 e^{- 0.0005 t} - 24 e^{- 0.0004 t}\\right) + 1\\right) + 1$"
      ],
      "text/plain": [
       "  ⎛                    2⎞ ⎛                  2                                \n",
       "  ⎜    ⎛     -0.0001⋅t⎞ ⎟ ⎜  ⎛     -0.0001⋅t⎞  ⎛     -0.0009⋅t      -0.0008⋅t \n",
       "- ⎝1 - ⎝1 - ℯ         ⎠ ⎠⋅⎝- ⎝1 - ℯ         ⎠ ⋅⎝1 + ℯ          - 9⋅ℯ          \n",
       "\n",
       "                                                                    ⎞    \n",
       "      -0.0007⋅t       -0.0006⋅t       -0.0005⋅t       -0.0004⋅t⎞    ⎟    \n",
       "+ 33⋅ℯ          - 62⋅ℯ          + 60⋅ℯ          - 24⋅ℯ         ⎠ + 1⎠ + 1"
      ]
     },
     "execution_count": 5,
     "metadata": {},
     "output_type": "execute_result"
    }
   ],
   "source": [
    "Fsis_min=1-Rsis_min\n",
    "Fsis_min.subs({t:1000})"
   ]
  },
  {
   "cell_type": "code",
   "execution_count": 6,
   "metadata": {},
   "outputs": [
    {
     "data": {
      "image/png": "[encoded data removed]",
      "text/latex": [
       "$\\displaystyle 100 - \\frac{100 \\left(- \\left(1 - \\left(1 - e^{- 0.0001 t}\\right)^{2}\\right) \\left(- \\left(1 - e^{- 0.0001 t}\\right)^{2} \\left(1 + e^{- 0.0009 t} - 9 e^{- 0.0008 t} + 33 e^{- 0.0007 t} - 62 e^{- 0.0006 t} + 60 e^{- 0.0005 t} - 24 e^{- 0.0004 t}\\right) + 1\\right) - \\left(1 - e^{- 0.0002 t}\\right) \\left(1 - e^{- 0.0001 t}\\right) \\left(- \\left(e^{- 0.0007 t} - 2 e^{- 0.0005 t} - e^{- 0.0004 t} + e^{- 0.0003 t} + 2 e^{- 0.0002 t}\\right) e^{- 0.0001 t} + 1\\right) + 1\\right)}{\\left(1 - \\left(1 - e^{- 0.0001 t}\\right)^{2}\\right) \\left(- \\left(1 - e^{- 0.0001 t}\\right)^{2} \\left(1 + e^{- 0.0009 t} - 9 e^{- 0.0008 t} + 33 e^{- 0.0007 t} - 62 e^{- 0.0006 t} + 60 e^{- 0.0005 t} - 24 e^{- 0.0004 t}\\right) + 1\\right)}$"
      ],
      "text/plain": [
       "          ⎛  ⎛                    2⎞ ⎛                  2                     \n",
       "          ⎜  ⎜    ⎛     -0.0001⋅t⎞ ⎟ ⎜  ⎛     -0.0001⋅t⎞  ⎛     -0.0009⋅t     \n",
       "      100⋅⎝- ⎝1 - ⎝1 - ℯ         ⎠ ⎠⋅⎝- ⎝1 - ℯ         ⎠ ⋅⎝1 + ℯ          - 9⋅\n",
       "100 - ────────────────────────────────────────────────────────────────────────\n",
       "                                                                          ⎛   \n",
       "                                                                          ⎜   \n",
       "                                                                          ⎝1 -\n",
       "\n",
       "                                                                              \n",
       " -0.0008⋅t       -0.0007⋅t       -0.0006⋅t       -0.0005⋅t       -0.0004⋅t⎞   \n",
       "ℯ          + 33⋅ℯ          - 62⋅ℯ          + 60⋅ℯ          - 24⋅ℯ         ⎠ + \n",
       "──────────────────────────────────────────────────────────────────────────────\n",
       "                 2⎞ ⎛                  2                                      \n",
       " ⎛     -0.0001⋅t⎞ ⎟ ⎜  ⎛     -0.0001⋅t⎞  ⎛     -0.0009⋅t      -0.0008⋅t       \n",
       " ⎝1 - ℯ         ⎠ ⎠⋅⎝- ⎝1 - ℯ         ⎠ ⋅⎝1 + ℯ          - 9⋅ℯ          + 33⋅ℯ\n",
       "\n",
       " ⎞                                                                            \n",
       " ⎟   ⎛     -0.0002⋅t⎞ ⎛     -0.0001⋅t⎞ ⎛  ⎛ -0.0007⋅t      -0.0005⋅t    -0.000\n",
       "1⎠ - ⎝1 - ℯ         ⎠⋅⎝1 - ℯ         ⎠⋅⎝- ⎝ℯ          - 2⋅ℯ          - ℯ      \n",
       "──────────────────────────────────────────────────────────────────────────────\n",
       "                                                              ⎞               \n",
       "-0.0007⋅t       -0.0006⋅t       -0.0005⋅t       -0.0004⋅t⎞    ⎟               \n",
       "          - 62⋅ℯ          + 60⋅ℯ          - 24⋅ℯ         ⎠ + 1⎠               \n",
       "\n",
       "                                                    ⎞\n",
       "4⋅t    -0.0003⋅t      -0.0002⋅t⎞  -0.0001⋅t    ⎞    ⎟\n",
       "    + ℯ          + 2⋅ℯ         ⎠⋅ℯ          + 1⎠ + 1⎠\n",
       "─────────────────────────────────────────────────────\n",
       "                                                     \n",
       "                                                     \n",
       "                                                     "
      ]
     },
     "execution_count": 6,
     "metadata": {},
     "output_type": "execute_result"
    }
   ],
   "source": [
    "#e) accuracy:\n",
    "accuracy = (1- (Rsis_max-Rsis_min)/Rsis_min)*100\n",
    "accuracy.subs({t:1000}) #accuracy is equal or greater than \"x\" per cent"
   ]
  },
  {
   "cell_type": "code",
   "execution_count": 12,
   "metadata": {
    "scrolled": true
   },
   "outputs": [
    {
     "data": {
      "image/png": "[encoded data removed]",
      "text/latex": [
       "$\\displaystyle 9787.9897879899$"
      ],
      "text/plain": [
       "9787.98978798990"
      ]
     },
     "execution_count": 12,
     "metadata": {},
     "output_type": "execute_result"
    }
   ],
   "source": [
    "#f) MTTF of  the system\n",
    "mttf_min = integrate(Rsis_min,(t,0,oo))\n",
    "mttf_min\n"
   ]
  },
  {
   "cell_type": "code",
   "execution_count": 13,
   "metadata": {},
   "outputs": [
    {
     "data": {
      "image/png": "[encoded data removed]",
      "text/latex": [
       "$\\displaystyle 12623.3766233766$"
      ],
      "text/plain": [
       "12623.3766233766"
      ]
     },
     "execution_count": 13,
     "metadata": {},
     "output_type": "execute_result"
    }
   ],
   "source": [
    "mttf_max = integrate(Rsis_max,(t,0,oo))\n",
    "mttf_max"
   ]
  }
 ],
 "metadata": {
  "kernelspec": {
   "display_name": "Python 3",
   "language": "python",
   "name": "python3"
  },
  "language_info": {
   "codemirror_mode": {
    "name": "ipython",
    "version": 3
   },
   "file_extension": ".py",
   "mimetype": "text/x-python",
   "name": "python",
   "nbconvert_exporter": "python",
   "pygments_lexer": "ipython3",
   "version": "3.7.4"
  }
 },
 "nbformat": 4,
 "nbformat_minor": 2
}
