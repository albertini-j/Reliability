{
 "cells": [
  {
   "cell_type": "code",
   "execution_count": 1,
   "metadata": {},
   "outputs": [
    {
     "name": "stdout",
     "output_type": "stream",
     "text": [
      "IPython console for SymPy 1.4 (Python 3.7.4-64-bit) (ground types: python)\n",
      "\n",
      "These commands were executed:\n",
      ">>> from __future__ import division\n",
      ">>> from sympy import *\n",
      ">>> x, y, z, t = symbols('x y z t')\n",
      ">>> k, m, n = symbols('k m n', integer=True)\n",
      ">>> f, g, h = symbols('f g h', cls=Function)\n",
      ">>> init_printing()\n",
      "\n",
      "Documentation can be found at https://docs.sympy.org/1.4/\n",
      "\n"
     ]
    }
   ],
   "source": [
    "#Modarres - Ex 4.7\n",
    "\n",
    "from sympy import *\n",
    "init_session()\n",
    "from sympy.stats import *\n",
    "import matplotlib.pyplot as plt\n",
    "import numpy as np\n",
    "\n",
    "\n",
    "F, a, b, R, mttf, l =symbols('F a b R mttf l')"
   ]
  },
  {
   "cell_type": "code",
   "execution_count": 2,
   "metadata": {},
   "outputs": [
    {
     "data": {
      "image/png": "[encoded data removed]",
      "text/latex": [
       "$\\displaystyle 0.932684$"
      ],
      "text/plain": [
       "0.932684"
      ]
     },
     "execution_count": 2,
     "metadata": {},
     "output_type": "execute_result"
    }
   ],
   "source": [
    "#a) Minimal cut sets:\n",
    "#c1 = b\n",
    "#c2 = d,e\n",
    "#c3 = a, b\n",
    "#c4 = a,c\n",
    "\n",
    "#b) Minimal path sets:\n",
    "\n",
    "#p1 = a,b,d\n",
    "#p2 = a,b,e\n",
    "#p3 = b,c,d\n",
    "#p4 = b,c,e\n",
    "\n",
    "#c) top event probability\n",
    "a= 0.01\n",
    "b=0.0092\n",
    "c=0.01\n",
    "d=0.0092\n",
    "e=0.01\n",
    "\n",
    "na=1-a\n",
    "nb=1-b\n",
    "nc=1-c\n",
    "nd=1-d\n",
    "ne=1-e\n",
    "\n",
    "#vou calcular pelo cut sets, para encontrar a maior chance do evento acontecer.\n",
    "\n",
    "c1= 1-nb\n",
    "c2= 1-nd*ne\n",
    "c3= 1-na*nb\n",
    "c4= 1-na*nc\n",
    "\n",
    "E=1-(c1+c2+c3+c4)\n",
    "\n",
    "E"
   ]
  },
  {
   "cell_type": "code",
   "execution_count": null,
   "metadata": {},
   "outputs": [],
   "source": []
  }
 ],
 "metadata": {
  "kernelspec": {
   "display_name": "Python 3",
   "language": "python",
   "name": "python3"
  },
  "language_info": {
   "codemirror_mode": {
    "name": "ipython",
    "version": 3
   },
   "file_extension": ".py",
   "mimetype": "text/x-python",
   "name": "python",
   "nbconvert_exporter": "python",
   "pygments_lexer": "ipython3",
   "version": "3.7.4"
  }
 },
 "nbformat": 4,
 "nbformat_minor": 2
}
