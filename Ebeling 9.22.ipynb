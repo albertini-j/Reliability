{
 "cells": [
  {
   "cell_type": "code",
   "execution_count": 1,
   "metadata": {},
   "outputs": [
    {
     "name": "stdout",
     "output_type": "stream",
     "text": [
      "IPython console for SymPy 1.4 (Python 3.7.4-64-bit) (ground types: python)\n",
      "\n",
      "These commands were executed:\n",
      ">>> from __future__ import division\n",
      ">>> from sympy import *\n",
      ">>> x, y, z, t = symbols('x y z t')\n",
      ">>> k, m, n = symbols('k m n', integer=True)\n",
      ">>> f, g, h = symbols('f g h', cls=Function)\n",
      ">>> init_printing()\n",
      "\n",
      "Documentation can be found at https://docs.sympy.org/1.4/\n",
      "\n"
     ]
    }
   ],
   "source": [
    "#ebeling 9.22\n",
    "from sympy import *\n",
    "init_session()\n",
    "from sympy.stats import *\n",
    "import matplotlib.pyplot as plt\n",
    "import numpy as np\n",
    "\n",
    "F, a, b, R, mttf, l =symbols('F a b R mttf l')\n",
    "#prove que a eq.3.24 é um caso especial da eq9.32 r=0\n",
    "\n"
   ]
  },
  {
   "cell_type": "code",
   "execution_count": 9,
   "metadata": {},
   "outputs": [
    {
     "data": {
      "image/png": "[encoded data removed]",
      "text/latex": [
       "$\\displaystyle \\frac{\\sqrt{lp \\left(lp + 6\\right)} \\left(\\left(- 1.5 lp + 0.5 \\sqrt{lp \\left(lp + 6\\right)}\\right) e^{t \\left(1.5 lp - 0.5 \\sqrt{lp \\left(lp + 6\\right)}\\right)} + \\left(1.5 lp + 0.5 \\sqrt{lp \\left(lp + 6\\right)}\\right) e^{t \\left(1.5 lp + 0.5 \\sqrt{lp \\left(lp + 6\\right)}\\right)}\\right) e^{- 3.0 lp t}}{lp \\left(lp + 6\\right)}$"
      ],
      "text/plain": [
       "                ⎛                                   ⎛               __________\n",
       "  _____________ ⎜⎛                _____________⎞  t⋅⎝1.5⋅lp - 0.5⋅╲╱ lp⋅(lp + \n",
       "╲╱ lp⋅(lp + 6) ⋅⎝⎝-1.5⋅lp + 0.5⋅╲╱ lp⋅(lp + 6) ⎠⋅ℯ                            \n",
       "──────────────────────────────────────────────────────────────────────────────\n",
       "                                                                           lp⋅\n",
       "\n",
       "___⎞                                     ⎛               _____________⎞⎞      \n",
       "6) ⎠   ⎛               _____________⎞  t⋅⎝1.5⋅lp + 0.5⋅╲╱ lp⋅(lp + 6) ⎠⎟  -3.0\n",
       "     + ⎝1.5⋅lp + 0.5⋅╲╱ lp⋅(lp + 6) ⎠⋅ℯ                                ⎠⋅ℯ    \n",
       "──────────────────────────────────────────────────────────────────────────────\n",
       "(lp + 6)                                                                      \n",
       "\n",
       "     \n",
       "⋅lp⋅t\n",
       "     \n",
       "─────\n",
       "     "
      ]
     },
     "execution_count": 9,
     "metadata": {},
     "output_type": "execute_result"
    }
   ],
   "source": [
    "#a equação 9.32 implica num mttf = (3l+r)/(2*l**2), se r = 0, mttf=3/2l, que é o mttf derivado da eq 3.24, portanto, são equivalentes.\n"
   ]
  },
  {
   "cell_type": "code",
   "execution_count": 7,
   "metadata": {},
   "outputs": [
    {
     "data": {
      "image/png": "[encoded data removed]",
      "text/latex": [
       "$\\displaystyle 2 e^{- lp t} - e^{- 2 lp t}$"
      ],
      "text/plain": [
       "   -lp⋅t    -2⋅lp⋅t\n",
       "2⋅ℯ      - ℯ       "
      ]
     },
     "execution_count": 7,
     "metadata": {},
     "output_type": "execute_result"
    }
   ],
   "source": [
    "R324=2*exp(-lp*t)-exp(-2*lp*t)\n",
    "R324"
   ]
  },
  {
   "cell_type": "code",
   "execution_count": 6,
   "metadata": {},
   "outputs": [
    {
     "data": {
      "image/png": "[encoded data removed]",
      "text/latex": [
       "$\\displaystyle - lp$"
      ],
      "text/plain": [
       "-lp"
      ]
     },
     "execution_count": 6,
     "metadata": {},
     "output_type": "execute_result"
    }
   ],
   "source": [
    "x2"
   ]
  },
  {
   "cell_type": "code",
   "execution_count": null,
   "metadata": {},
   "outputs": [],
   "source": []
  }
 ],
 "metadata": {
  "kernelspec": {
   "display_name": "Python 3",
   "language": "python",
   "name": "python3"
  },
  "language_info": {
   "codemirror_mode": {
    "name": "ipython",
    "version": 3
   },
   "file_extension": ".py",
   "mimetype": "text/x-python",
   "name": "python",
   "nbconvert_exporter": "python",
   "pygments_lexer": "ipython3",
   "version": "3.7.4"
  }
 },
 "nbformat": 4,
 "nbformat_minor": 4
}
